{
 "cells": [
  {
   "cell_type": "code",
   "execution_count": 41,
   "metadata": {},
   "outputs": [
    {
     "name": "stderr",
     "output_type": "stream",
     "text": [
      "/home/rmartinez/.local/lib/python3.5/site-packages/IPython/core/interactiveshell.py:2785: DtypeWarning: Columns (2,5) have mixed types. Specify dtype option on import or set low_memory=False.\n",
      "  interactivity=interactivity, compiler=compiler, result=result)\n"
     ]
    }
   ],
   "source": [
    "import pandas as pd\n",
    "import numpy as np\n",
    "\n",
    "df = pd.read_csv('/home/rmartinez/Documents/github_projects/mexico_earthquakes/data/sismos.csv', encoding='latin1')\n",
    "\n",
    "\n",
    "df.replace('en revision', np.nan, inplace=True)\n",
    "df.replace('no calculable', np.nan, inplace=True)\n",
    "df['Fecha_Hora']=pd.to_datetime(df['Fecha'] + ' '+ df['Hora'])\n",
    "df_labels = pd.DataFrame(df['Profundidad'],columns=['Profundidad'])\n",
    "df.drop(columns=['Fecha','Hora','Fecha_UTC','Hora_UTC','Estatus','Profundidad'], inplace=True, axis=1)\n",
    "df_num = df.drop(['Localizacion','Fecha_Hora'], axis=1)\n"
   ]
  },
  {
   "cell_type": "code",
   "execution_count": 42,
   "metadata": {},
   "outputs": [
    {
     "name": "stderr",
     "output_type": "stream",
     "text": [
      "/home/rmartinez/.local/lib/python3.5/site-packages/sklearn/utils/deprecation.py:58: DeprecationWarning: Class Imputer is deprecated; Imputer was deprecated in version 0.20 and will be removed in 0.22. Import impute.SimpleImputer from sklearn instead.\n",
      "  warnings.warn(msg, category=DeprecationWarning)\n"
     ]
    },
    {
     "data": {
      "text/plain": [
       "array([[   7.4 ,   20.  , -105.  , ...,    0.  ,    0.  ,    0.  ],\n",
       "       [   6.9 ,   20.  , -105.  , ...,    0.  ,    0.  ,    0.  ],\n",
       "       [   6.9 ,   25.  , -110.  , ...,    0.  ,    0.  ,    0.  ],\n",
       "       ...,\n",
       "       [   2.4 ,   19.19, -104.24, ...,    0.  ,    0.  ,    0.  ],\n",
       "       [   3.3 ,   19.34, -104.49, ...,    0.  ,    0.  ,    0.  ],\n",
       "       [   3.5 ,   16.39,  -94.91, ...,    0.  ,    0.  ,    0.  ]])"
      ]
     },
     "execution_count": 42,
     "metadata": {},
     "output_type": "execute_result"
    }
   ],
   "source": [
    "import re\n",
    "regex = '^.*km al .*de .*,'\n",
    "\n",
    "local_sub = lambda x: re.sub(regex,'',x)\n",
    "\n",
    "df['Localizacion']=df['Localizacion'].apply(local_sub)\n",
    "df['Localizacion'].value_counts()\n",
    "\n",
    "median = df['Magnitud'].median()\n",
    "df['Magnitud'].fillna(median,inplace=True)\n",
    "df_num_attr =list(df_num)\n",
    "df_cat_attr = ['Localizacion']\n",
    "\n",
    "median = df_labels['Profundidad'].median()\n",
    "df_labels['Profundidad'].fillna(median, inplace=True)\n",
    "\n",
    "from sklearn.pipeline import Pipeline\n",
    "from sklearn.preprocessing import Imputer\n",
    "from sklearn.pipeline import FeatureUnion\n",
    "from sklearn.base import BaseEstimator, TransformerMixin\n",
    "from sklearn.preprocessing import CategoricalEncoder\n",
    "\n",
    "class DataFrameSelector(BaseEstimator, TransformerMixin):\n",
    "    def __init__(self, attribute_names):\n",
    "        self.attribute_names = attribute_names\n",
    "    def fit(self, X, y=None):\n",
    "        return self\n",
    "    def transform(self, X):\n",
    "        return X[self.attribute_names].values\n",
    "\n",
    "num_pipeline = Pipeline([('selector',DataFrameSelector(df_num_attr)),('imputer',Imputer(strategy='median')),])\n",
    "cat_pipeline = Pipeline([('selector',DataFrameSelector(df_cat_attr)),('cat_encoder',CategoricalEncoder(encoding='onehot-dense')),])\n",
    "full_pipeline = FeatureUnion(transformer_list=[('num_pipeline',num_pipeline),('cat_pipeline',cat_pipeline),])\n",
    "\n",
    "earthquakes_prepared = full_pipeline.fit_transform(df)\n",
    "earthquakes_prepared\n",
    "\n",
    "#imputer = Imputer(strategy='median')\n",
    "##imputer.fit(df_num)\n",
    "#imputer.statistics_\n",
    "##df_num = pd.DataFrame(imputer.transform(df_num), columns=df_num.columns)"
   ]
  },
  {
   "cell_type": "code",
   "execution_count": 43,
   "metadata": {},
   "outputs": [
    {
     "data": {
      "text/plain": [
       "LinearRegression(copy_X=True, fit_intercept=True, n_jobs=1, normalize=False)"
      ]
     },
     "execution_count": 43,
     "metadata": {},
     "output_type": "execute_result"
    }
   ],
   "source": [
    "from sklearn.linear_model import LinearRegression\n",
    "\n",
    "linear_reg = LinearRegression()\n",
    "linear_reg.fit(earthquakes_prepared,df_labels)"
   ]
  },
  {
   "cell_type": "code",
   "execution_count": 44,
   "metadata": {},
   "outputs": [
    {
     "data": {
      "text/plain": [
       "array([[69.19049072],\n",
       "       [64.75317383],\n",
       "       [34.12261963],\n",
       "       [50.04803467],\n",
       "       [67.28930664]])"
      ]
     },
     "execution_count": 44,
     "metadata": {},
     "output_type": "execute_result"
    }
   ],
   "source": [
    "some_data = df.iloc[:5]\n",
    "some_labels = df_labels.iloc[:5]\n",
    "some_data_prepared = full_pipeline.transform(some_data)\n",
    "\n",
    "linear_reg.predict(some_data_prepared)"
   ]
  },
  {
   "cell_type": "code",
   "execution_count": 46,
   "metadata": {},
   "outputs": [
    {
     "data": {
      "text/plain": [
       "29.047941457955023"
      ]
     },
     "execution_count": 46,
     "metadata": {},
     "output_type": "execute_result"
    }
   ],
   "source": [
    "from sklearn.metrics import mean_squared_error\n",
    "\n",
    "earthquake_predictions = linear_reg.predict(earthquakes_prepared)\n",
    "lin_mse = mean_squared_error(earthquake_predictions, df_labels)\n",
    "lin_rmse = np.sqrt(lin_mse)\n",
    "lin_rmse"
   ]
  },
  {
   "cell_type": "code",
   "execution_count": 53,
   "metadata": {},
   "outputs": [
    {
     "data": {
      "text/plain": [
       "3.564526993046849"
      ]
     },
     "execution_count": 53,
     "metadata": {},
     "output_type": "execute_result"
    }
   ],
   "source": [
    "from sklearn.tree import DecisionTreeRegressor\n",
    "tree_reg = DecisionTreeRegressor()\n",
    "tree_reg.fit(earthquakes_prepared,df_labels)\n",
    "tree_predictions = tree_reg.predict(earthquakes_prepared)\n",
    "lin_mse = mean_squared_error(tree_predictions, df_labels)\n",
    "lin_rmse = np.sqrt(lin_mse)\n",
    "lin_rmse"
   ]
  },
  {
   "cell_type": "code",
   "execution_count": 99,
   "metadata": {},
   "outputs": [
    {
     "name": "stdout",
     "output_type": "stream",
     "text": [
      "Scores: [35.83259045 37.62559777 32.36669069 31.00024146 28.80691485 27.46751689\n",
      " 26.98123593 27.13395414 30.42034906 25.1402202 ]\n",
      "Mean: 30.277531144457235\n",
      "Standard Deviation: 3.8335173993056\n"
     ]
    }
   ],
   "source": [
    "from sklearn.model_selection import cross_val_score\n",
    "\n",
    "scores = cross_val_score(tree_reg, earthquakes_prepared, df_labels, scoring=\"neg_mean_squared_error\", cv=10)\n",
    "tree_rmse_scores = np.sqrt(-scores)\n",
    "\n",
    "def display_scores(scores):\n",
    "    print('Scores:',scores)\n",
    "    print('Mean:',scores.mean())\n",
    "    print('Standard Deviation:',scores.std())\n",
    "\n",
    "display_scores(tree_rmse_scores)"
   ]
  },
  {
   "cell_type": "code",
   "execution_count": 100,
   "metadata": {},
   "outputs": [
    {
     "name": "stdout",
     "output_type": "stream",
     "text": [
      "Scores: [3.32294940e+01 3.24719635e+01 3.34129774e+01 3.17222660e+01\n",
      " 2.91507788e+01 2.92380617e+01 2.81417752e+01 1.92700292e+10\n",
      " 2.75527239e+01 3.64726376e+09]\n",
      "Mean: 2291729315.454199\n",
      "Standard Deviation: 5762953442.937418\n"
     ]
    }
   ],
   "source": [
    "scores_lin = cross_val_score(linear_reg, earthquakes_prepared, df_labels, scoring='neg_mean_squared_error', cv=10)\n",
    "linear_reg_scores = np.sqrt(-scores_lin)\n",
    "display_scores(linear_reg_scores)"
   ]
  },
  {
   "cell_type": "code",
   "execution_count": 102,
   "metadata": {},
   "outputs": [
    {
     "name": "stderr",
     "output_type": "stream",
     "text": [
      "/home/rmartinez/.local/lib/python3.5/site-packages/ipykernel_launcher.py:4: DataConversionWarning: A column-vector y was passed when a 1d array was expected. Please change the shape of y to (n_samples,), for example using ravel().\n",
      "  after removing the cwd from sys.path.\n",
      "/home/rmartinez/.local/lib/python3.5/site-packages/sklearn/model_selection/_validation.py:487: DataConversionWarning: A column-vector y was passed when a 1d array was expected. Please change the shape of y to (n_samples,), for example using ravel().\n",
      "  estimator.fit(X_train, y_train, **fit_params)\n",
      "/home/rmartinez/.local/lib/python3.5/site-packages/sklearn/model_selection/_validation.py:487: DataConversionWarning: A column-vector y was passed when a 1d array was expected. Please change the shape of y to (n_samples,), for example using ravel().\n",
      "  estimator.fit(X_train, y_train, **fit_params)\n",
      "/home/rmartinez/.local/lib/python3.5/site-packages/sklearn/model_selection/_validation.py:487: DataConversionWarning: A column-vector y was passed when a 1d array was expected. Please change the shape of y to (n_samples,), for example using ravel().\n",
      "  estimator.fit(X_train, y_train, **fit_params)\n",
      "/home/rmartinez/.local/lib/python3.5/site-packages/sklearn/model_selection/_validation.py:487: DataConversionWarning: A column-vector y was passed when a 1d array was expected. Please change the shape of y to (n_samples,), for example using ravel().\n",
      "  estimator.fit(X_train, y_train, **fit_params)\n",
      "/home/rmartinez/.local/lib/python3.5/site-packages/sklearn/model_selection/_validation.py:487: DataConversionWarning: A column-vector y was passed when a 1d array was expected. Please change the shape of y to (n_samples,), for example using ravel().\n",
      "  estimator.fit(X_train, y_train, **fit_params)\n",
      "/home/rmartinez/.local/lib/python3.5/site-packages/sklearn/model_selection/_validation.py:487: DataConversionWarning: A column-vector y was passed when a 1d array was expected. Please change the shape of y to (n_samples,), for example using ravel().\n",
      "  estimator.fit(X_train, y_train, **fit_params)\n",
      "/home/rmartinez/.local/lib/python3.5/site-packages/sklearn/model_selection/_validation.py:487: DataConversionWarning: A column-vector y was passed when a 1d array was expected. Please change the shape of y to (n_samples,), for example using ravel().\n",
      "  estimator.fit(X_train, y_train, **fit_params)\n",
      "/home/rmartinez/.local/lib/python3.5/site-packages/sklearn/model_selection/_validation.py:487: DataConversionWarning: A column-vector y was passed when a 1d array was expected. Please change the shape of y to (n_samples,), for example using ravel().\n",
      "  estimator.fit(X_train, y_train, **fit_params)\n",
      "/home/rmartinez/.local/lib/python3.5/site-packages/sklearn/model_selection/_validation.py:487: DataConversionWarning: A column-vector y was passed when a 1d array was expected. Please change the shape of y to (n_samples,), for example using ravel().\n",
      "  estimator.fit(X_train, y_train, **fit_params)\n",
      "/home/rmartinez/.local/lib/python3.5/site-packages/sklearn/model_selection/_validation.py:487: DataConversionWarning: A column-vector y was passed when a 1d array was expected. Please change the shape of y to (n_samples,), for example using ravel().\n",
      "  estimator.fit(X_train, y_train, **fit_params)\n"
     ]
    },
    {
     "name": "stdout",
     "output_type": "stream",
     "text": [
      "Scores: [28.45932675 31.39535657 26.17381596 24.03591164 21.78356821 21.34947329\n",
      " 20.44702972 20.31441021 24.13224537 19.57545048]\n",
      "Mean: 23.766658817659113\n",
      "Standard Deviation: 3.6945681380095414\n"
     ]
    }
   ],
   "source": [
    "from sklearn.ensemble import RandomForestRegressor\n",
    "\n",
    "forest_reg = RandomForestRegressor()\n",
    "forest_reg.fit(earthquakes_prepared, df_labels)\n",
    "\n",
    "scores_forest = cross_val_score(forest_reg, earthquakes_prepared, df_labels, scoring=\"neg_mean_squared_error\", cv=10)\n",
    "forest_reg_scores = np.sqrt(-scores_forest)\n",
    "display_scores(forest_reg_scores)"
   ]
  },
  {
   "cell_type": "code",
   "execution_count": null,
   "metadata": {},
   "outputs": [],
   "source": []
  }
 ],
 "metadata": {
  "kernelspec": {
   "display_name": "Python 3",
   "language": "python",
   "name": "python3"
  },
  "language_info": {
   "codemirror_mode": {
    "name": "ipython",
    "version": 3
   },
   "file_extension": ".py",
   "mimetype": "text/x-python",
   "name": "python",
   "nbconvert_exporter": "python",
   "pygments_lexer": "ipython3",
   "version": "3.5.2"
  }
 },
 "nbformat": 4,
 "nbformat_minor": 2
}
