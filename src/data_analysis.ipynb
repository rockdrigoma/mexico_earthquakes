{
 "cells": [
  {
   "cell_type": "code",
   "execution_count": 147,
   "metadata": {},
   "outputs": [],
   "source": [
    "import pandas as pd\n",
    "import numpy as np"
   ]
  },
  {
   "cell_type": "code",
   "execution_count": 148,
   "metadata": {},
   "outputs": [
    {
     "name": "stderr",
     "output_type": "stream",
     "text": [
      "/home/rmartinez/.local/lib/python3.5/site-packages/IPython/core/interactiveshell.py:2785: DtypeWarning: Columns (2,5) have mixed types. Specify dtype option on import or set low_memory=False.\n",
      "  interactivity=interactivity, compiler=compiler, result=result)\n"
     ]
    }
   ],
   "source": [
    "df = pd.read_csv('/home/rmartinez/Documents/github_projects/mexico_earthquakes/data/sismos.csv', encoding='latin1')"
   ]
  },
  {
   "cell_type": "code",
   "execution_count": 149,
   "metadata": {},
   "outputs": [
    {
     "data": {
      "text/html": [
       "<div>\n",
       "<style scoped>\n",
       "    .dataframe tbody tr th:only-of-type {\n",
       "        vertical-align: middle;\n",
       "    }\n",
       "\n",
       "    .dataframe tbody tr th {\n",
       "        vertical-align: top;\n",
       "    }\n",
       "\n",
       "    .dataframe thead th {\n",
       "        text-align: right;\n",
       "    }\n",
       "</style>\n",
       "<table border=\"1\" class=\"dataframe\">\n",
       "  <thead>\n",
       "    <tr style=\"text-align: right;\">\n",
       "      <th></th>\n",
       "      <th>Latitud</th>\n",
       "      <th>Longitud</th>\n",
       "    </tr>\n",
       "  </thead>\n",
       "  <tbody>\n",
       "    <tr>\n",
       "      <th>count</th>\n",
       "      <td>137020.000000</td>\n",
       "      <td>137020.000000</td>\n",
       "    </tr>\n",
       "    <tr>\n",
       "      <th>mean</th>\n",
       "      <td>17.330889</td>\n",
       "      <td>-98.130885</td>\n",
       "    </tr>\n",
       "    <tr>\n",
       "      <th>std</th>\n",
       "      <td>3.826909</td>\n",
       "      <td>5.422786</td>\n",
       "    </tr>\n",
       "    <tr>\n",
       "      <th>min</th>\n",
       "      <td>11.752000</td>\n",
       "      <td>-120.595000</td>\n",
       "    </tr>\n",
       "    <tr>\n",
       "      <th>25%</th>\n",
       "      <td>15.590000</td>\n",
       "      <td>-100.050000</td>\n",
       "    </tr>\n",
       "    <tr>\n",
       "      <th>50%</th>\n",
       "      <td>16.320000</td>\n",
       "      <td>-97.590000</td>\n",
       "    </tr>\n",
       "    <tr>\n",
       "      <th>75%</th>\n",
       "      <td>17.330000</td>\n",
       "      <td>-94.450000</td>\n",
       "    </tr>\n",
       "    <tr>\n",
       "      <th>max</th>\n",
       "      <td>33.466500</td>\n",
       "      <td>-85.546700</td>\n",
       "    </tr>\n",
       "  </tbody>\n",
       "</table>\n",
       "</div>"
      ],
      "text/plain": [
       "             Latitud       Longitud\n",
       "count  137020.000000  137020.000000\n",
       "mean       17.330889     -98.130885\n",
       "std         3.826909       5.422786\n",
       "min        11.752000    -120.595000\n",
       "25%        15.590000    -100.050000\n",
       "50%        16.320000     -97.590000\n",
       "75%        17.330000     -94.450000\n",
       "max        33.466500     -85.546700"
      ]
     },
     "execution_count": 149,
     "metadata": {},
     "output_type": "execute_result"
    }
   ],
   "source": [
    "df.describe()"
   ]
  },
  {
   "cell_type": "code",
   "execution_count": 150,
   "metadata": {},
   "outputs": [
    {
     "name": "stdout",
     "output_type": "stream",
     "text": [
      "<class 'pandas.core.frame.DataFrame'>\n",
      "RangeIndex: 137020 entries, 0 to 137019\n",
      "Data columns (total 10 columns):\n",
      "Fecha           137020 non-null object\n",
      "Hora            137020 non-null object\n",
      "Magnitud        137020 non-null object\n",
      "Latitud         137020 non-null float64\n",
      "Longitud        137020 non-null float64\n",
      "Profundidad     137020 non-null object\n",
      "Localizacion    137020 non-null object\n",
      "Fecha_UTC       137020 non-null object\n",
      "Hora_UTC        137020 non-null object\n",
      "Estatus         137020 non-null object\n",
      "dtypes: float64(2), object(8)\n",
      "memory usage: 10.5+ MB\n"
     ]
    }
   ],
   "source": [
    "df.info()"
   ]
  },
  {
   "cell_type": "code",
   "execution_count": 151,
   "metadata": {},
   "outputs": [
    {
     "data": {
      "text/plain": [
       "Fecha                                  2012-06-29\n",
       "Hora                                     11:40:01\n",
       "Magnitud                                      4.2\n",
       "Latitud                                   13.5565\n",
       "Longitud                                 -92.1658\n",
       "Profundidad                               34.8478\n",
       "Localizacion    124 km al SUR de CD HIDALGO, CHIS\n",
       "Fecha_UTC                              2012-06-29\n",
       "Hora_UTC                                 16:40:01\n",
       "Estatus                                  revisado\n",
       "Name: 56208, dtype: object"
      ]
     },
     "execution_count": 151,
     "metadata": {},
     "output_type": "execute_result"
    }
   ],
   "source": [
    "magnitud_df = df[df.Magnitud!='no calculable']\n",
    "magnitud_df_2 = pd.DataFrame(magnitud_df['Magnitud'].astype('float64'), columns=['Magnitud'])\n",
    "magnitud_mean = magnitud_df_2['Magnitud'].mean()\n",
    "df.replace('no calculable', magnitud_mean, inplace=True)\n",
    "df.iloc[140]\n",
    "df['Magnitud']= pd.DataFrame(df['Magnitud'].astype('float64'), columns=['Magnitud'])\n",
    "\n",
    "profundidad_df = df[df.Profundidad!='en revision']\n",
    "profundidad_df_2 = pd.DataFrame(profundidad_df['Profundidad'].astype('float64'), columns=['Profundidad'])\n",
    "profundidad_mean = profundidad_df_2['Profundidad'].mean()\n",
    "df.replace('en revision', profundidad_mean, inplace=True)\n",
    "df['Profundidad']= pd.DataFrame(df['Profundidad'].astype('float64'), columns=['Profundidad'])\n",
    "df.iloc[56208]\n",
    "\n",
    "\n",
    "#df.info()\n",
    "#magnitud_new = pd.DataFrame(df['Magnitud'].astype('float64'), columns=['Magnitud'])\n",
    "#df['Magnitud'].fillna()"
   ]
  },
  {
   "cell_type": "code",
   "execution_count": 152,
   "metadata": {},
   "outputs": [
    {
     "data": {
      "text/html": [
       "<div>\n",
       "<style scoped>\n",
       "    .dataframe tbody tr th:only-of-type {\n",
       "        vertical-align: middle;\n",
       "    }\n",
       "\n",
       "    .dataframe tbody tr th {\n",
       "        vertical-align: top;\n",
       "    }\n",
       "\n",
       "    .dataframe thead th {\n",
       "        text-align: right;\n",
       "    }\n",
       "</style>\n",
       "<table border=\"1\" class=\"dataframe\">\n",
       "  <thead>\n",
       "    <tr style=\"text-align: right;\">\n",
       "      <th></th>\n",
       "      <th>Magnitud</th>\n",
       "      <th>Latitud</th>\n",
       "      <th>Longitud</th>\n",
       "      <th>Profundidad</th>\n",
       "    </tr>\n",
       "  </thead>\n",
       "  <tbody>\n",
       "    <tr>\n",
       "      <th>Magnitud</th>\n",
       "      <td>1.000000</td>\n",
       "      <td>-0.122907</td>\n",
       "      <td>0.137557</td>\n",
       "      <td>0.144579</td>\n",
       "    </tr>\n",
       "    <tr>\n",
       "      <th>Latitud</th>\n",
       "      <td>-0.122907</td>\n",
       "      <td>1.000000</td>\n",
       "      <td>-0.889023</td>\n",
       "      <td>-0.161381</td>\n",
       "    </tr>\n",
       "    <tr>\n",
       "      <th>Longitud</th>\n",
       "      <td>0.137557</td>\n",
       "      <td>-0.889023</td>\n",
       "      <td>1.000000</td>\n",
       "      <td>0.348676</td>\n",
       "    </tr>\n",
       "    <tr>\n",
       "      <th>Profundidad</th>\n",
       "      <td>0.144579</td>\n",
       "      <td>-0.161381</td>\n",
       "      <td>0.348676</td>\n",
       "      <td>1.000000</td>\n",
       "    </tr>\n",
       "  </tbody>\n",
       "</table>\n",
       "</div>"
      ],
      "text/plain": [
       "             Magnitud   Latitud  Longitud  Profundidad\n",
       "Magnitud     1.000000 -0.122907  0.137557     0.144579\n",
       "Latitud     -0.122907  1.000000 -0.889023    -0.161381\n",
       "Longitud     0.137557 -0.889023  1.000000     0.348676\n",
       "Profundidad  0.144579 -0.161381  0.348676     1.000000"
      ]
     },
     "execution_count": 152,
     "metadata": {},
     "output_type": "execute_result"
    }
   ],
   "source": [
    "df.corr()"
   ]
  },
  {
   "cell_type": "code",
   "execution_count": 153,
   "metadata": {},
   "outputs": [
    {
     "name": "stdout",
     "output_type": "stream",
     "text": [
      "<class 'pandas.core.frame.DataFrame'>\n",
      "RangeIndex: 137020 entries, 0 to 137019\n",
      "Data columns (total 10 columns):\n",
      "Fecha           137020 non-null object\n",
      "Hora            137020 non-null object\n",
      "Magnitud        137020 non-null float64\n",
      "Latitud         137020 non-null float64\n",
      "Longitud        137020 non-null float64\n",
      "Profundidad     137020 non-null float64\n",
      "Localizacion    137020 non-null object\n",
      "Fecha_UTC       137020 non-null object\n",
      "Hora_UTC        137020 non-null object\n",
      "Estatus         137020 non-null object\n",
      "dtypes: float64(4), object(6)\n",
      "memory usage: 10.5+ MB\n"
     ]
    }
   ],
   "source": [
    "df.info()"
   ]
  },
  {
   "cell_type": "code",
   "execution_count": 154,
   "metadata": {},
   "outputs": [
    {
     "data": {
      "text/plain": [
       "Fecha            object\n",
       "Hora             object\n",
       "Magnitud        float64\n",
       "Latitud         float64\n",
       "Longitud        float64\n",
       "Profundidad     float64\n",
       "Localizacion     object\n",
       "Fecha_UTC        object\n",
       "Hora_UTC         object\n",
       "Estatus          object\n",
       "dtype: object"
      ]
     },
     "execution_count": 154,
     "metadata": {},
     "output_type": "execute_result"
    }
   ],
   "source": [
    "df.dtypes"
   ]
  },
  {
   "cell_type": "code",
   "execution_count": 155,
   "metadata": {},
   "outputs": [],
   "source": [
    "df['Fecha_Hora']=pd.to_datetime(df['Fecha'] + ' '+ df['Hora'])"
   ]
  },
  {
   "cell_type": "code",
   "execution_count": 156,
   "metadata": {},
   "outputs": [
    {
     "data": {
      "text/html": [
       "<div>\n",
       "<style scoped>\n",
       "    .dataframe tbody tr th:only-of-type {\n",
       "        vertical-align: middle;\n",
       "    }\n",
       "\n",
       "    .dataframe tbody tr th {\n",
       "        vertical-align: top;\n",
       "    }\n",
       "\n",
       "    .dataframe thead th {\n",
       "        text-align: right;\n",
       "    }\n",
       "</style>\n",
       "<table border=\"1\" class=\"dataframe\">\n",
       "  <thead>\n",
       "    <tr style=\"text-align: right;\">\n",
       "      <th></th>\n",
       "      <th>Magnitud</th>\n",
       "      <th>Latitud</th>\n",
       "      <th>Longitud</th>\n",
       "      <th>Profundidad</th>\n",
       "    </tr>\n",
       "  </thead>\n",
       "  <tbody>\n",
       "    <tr>\n",
       "      <th>Magnitud</th>\n",
       "      <td>1.000000</td>\n",
       "      <td>-0.122907</td>\n",
       "      <td>0.137557</td>\n",
       "      <td>0.144579</td>\n",
       "    </tr>\n",
       "    <tr>\n",
       "      <th>Latitud</th>\n",
       "      <td>-0.122907</td>\n",
       "      <td>1.000000</td>\n",
       "      <td>-0.889023</td>\n",
       "      <td>-0.161381</td>\n",
       "    </tr>\n",
       "    <tr>\n",
       "      <th>Longitud</th>\n",
       "      <td>0.137557</td>\n",
       "      <td>-0.889023</td>\n",
       "      <td>1.000000</td>\n",
       "      <td>0.348676</td>\n",
       "    </tr>\n",
       "    <tr>\n",
       "      <th>Profundidad</th>\n",
       "      <td>0.144579</td>\n",
       "      <td>-0.161381</td>\n",
       "      <td>0.348676</td>\n",
       "      <td>1.000000</td>\n",
       "    </tr>\n",
       "  </tbody>\n",
       "</table>\n",
       "</div>"
      ],
      "text/plain": [
       "             Magnitud   Latitud  Longitud  Profundidad\n",
       "Magnitud     1.000000 -0.122907  0.137557     0.144579\n",
       "Latitud     -0.122907  1.000000 -0.889023    -0.161381\n",
       "Longitud     0.137557 -0.889023  1.000000     0.348676\n",
       "Profundidad  0.144579 -0.161381  0.348676     1.000000"
      ]
     },
     "execution_count": 156,
     "metadata": {},
     "output_type": "execute_result"
    }
   ],
   "source": [
    "df.corr()"
   ]
  },
  {
   "cell_type": "code",
   "execution_count": 157,
   "metadata": {},
   "outputs": [
    {
     "data": {
      "text/plain": [
       "0        1900-01-20 00:33:30\n",
       "1        1900-05-16 14:12:00\n",
       "2        1901-03-05 04:45:00\n",
       "3        1901-12-08 20:17:00\n",
       "4        1902-01-16 17:19:00\n",
       "5        1902-04-18 20:23:00\n",
       "6        1902-09-23 14:18:00\n",
       "7        1902-12-12 17:10:00\n",
       "8        1903-01-13 19:47:36\n",
       "9        1905-10-24 11:40:00\n",
       "10       1905-12-16 23:27:00\n",
       "11       1906-04-10 15:18:00\n",
       "12       1907-04-15 00:08:06\n",
       "13       1907-10-16 08:57:18\n",
       "14       1908-03-26 17:03:30\n",
       "15       1908-03-26 21:45:30\n",
       "16       1908-10-12 23:06:00\n",
       "17       1909-07-30 04:51:54\n",
       "18       1909-07-31 12:43:10\n",
       "19       1909-09-05 05:17:20\n",
       "20       1909-10-31 04:23:00\n",
       "21       1910-05-30 22:19:19\n",
       "22       1910-09-23 21:32:42\n",
       "23       1911-02-03 14:41:55\n",
       "24       1911-06-07 05:02:42\n",
       "25       1911-08-27 04:59:18\n",
       "26       1911-12-16 13:14:18\n",
       "27       1912-11-19 07:55:07\n",
       "28       1912-12-09 02:32:24\n",
       "29       1914-03-29 18:41:18\n",
       "                 ...        \n",
       "136990   2018-05-06 00:43:20\n",
       "136991   2018-05-06 00:48:01\n",
       "136992   2018-05-06 00:48:59\n",
       "136993   2018-05-06 00:51:50\n",
       "136994   2018-05-06 01:10:55\n",
       "136995   2018-05-06 01:22:19\n",
       "136996   2018-05-06 01:44:32\n",
       "136997   2018-05-06 01:50:39\n",
       "136998   2018-05-06 02:02:19\n",
       "136999   2018-05-06 02:07:25\n",
       "137000   2018-05-06 02:49:20\n",
       "137001   2018-05-06 03:14:54\n",
       "137002   2018-05-06 03:35:07\n",
       "137003   2018-05-06 04:00:38\n",
       "137004   2018-05-06 04:14:53\n",
       "137005   2018-05-06 04:42:29\n",
       "137006   2018-05-06 04:48:29\n",
       "137007   2018-05-06 05:31:48\n",
       "137008   2018-05-06 05:43:45\n",
       "137009   2018-05-06 05:45:17\n",
       "137010   2018-05-06 05:51:00\n",
       "137011   2018-05-06 06:05:59\n",
       "137012   2018-05-06 06:50:06\n",
       "137013   2018-05-06 08:16:06\n",
       "137014   2018-05-06 08:30:21\n",
       "137015   2018-05-06 08:45:25\n",
       "137016   2018-05-06 08:49:42\n",
       "137017   2018-05-06 09:00:44\n",
       "137018   2018-05-06 09:02:14\n",
       "137019   2018-05-06 09:08:26\n",
       "Name: Fecha_Hora, Length: 137020, dtype: datetime64[ns]"
      ]
     },
     "execution_count": 157,
     "metadata": {},
     "output_type": "execute_result"
    }
   ],
   "source": [
    "df['Fecha_Hora']"
   ]
  },
  {
   "cell_type": "code",
   "execution_count": 158,
   "metadata": {},
   "outputs": [],
   "source": [
    "df.drop(columns=['Fecha','Hora','Fecha_UTC','Hora_UTC','Estatus'], inplace=True)"
   ]
  },
  {
   "cell_type": "code",
   "execution_count": 159,
   "metadata": {},
   "outputs": [
    {
     "data": {
      "text/plain": [
       "Magnitud               float64\n",
       "Latitud                float64\n",
       "Longitud               float64\n",
       "Profundidad            float64\n",
       "Localizacion            object\n",
       "Fecha_Hora      datetime64[ns]\n",
       "dtype: object"
      ]
     },
     "execution_count": 159,
     "metadata": {},
     "output_type": "execute_result"
    }
   ],
   "source": [
    "df.dtypes"
   ]
  },
  {
   "cell_type": "code",
   "execution_count": 160,
   "metadata": {},
   "outputs": [
    {
     "data": {
      "text/plain": [
       "array(['71 km al NOROESTE de AUTLAN DE NAVARRO, JAL',\n",
       "       '100 km al NORESTE de LA PAZ, BCS', '83 km al OESTE de AHOME, SIN',\n",
       "       ..., '10 km al ESTE de SAN MARCOS, GRO',\n",
       "       '4 km al NORESTE de SAYULA, JAL',\n",
       "       '43 km al SURESTE de CHILAPA DE ALVAREZ, GRO'], dtype=object)"
      ]
     },
     "execution_count": 160,
     "metadata": {},
     "output_type": "execute_result"
    }
   ],
   "source": [
    "df.Localizacion.unique()"
   ]
  },
  {
   "cell_type": "code",
   "execution_count": 161,
   "metadata": {},
   "outputs": [
    {
     "data": {
      "text/plain": [
       "PINOTEPA NACIONAL, OAX                  17325\n",
       "CD HIDALGO, CHIS                        10181\n",
       "SALINA CRUZ, OAX                         9628\n",
       "OMETEPEC, GRO                            4791\n",
       "MAPASTEPEC, CHIS                         4786\n",
       "TONALA, CHIS                             4625\n",
       "MATIAS ROMERO, OAX                       4149\n",
       "COYUCA DE BENITEZ, GRO                   3766\n",
       "SAN MARCOS, GRO                          3765\n",
       "RIO GRANDE, OAX                          3733\n",
       "COALCOMAN, MICH                          3029\n",
       "PETATLAN, GRO                            2672\n",
       "PIJIJIAPAN, CHIS                         2650\n",
       "ACAPULCO, GRO                            2616\n",
       "CRUCECITA, OAX                           2526\n",
       "PIJIJIAPAN, CHIS                         2519\n",
       "PUERTO ESCONDIDO, OAX                    2235\n",
       "UNION HIDALGO, OAX                       2218\n",
       "HUIXTLA, CHIS                            2064\n",
       "TECPAN, GRO                              1939\n",
       "ZIHUATANEJO, GRO                         1898\n",
       "GPE VICTORIA(KM.43), BC                  1858\n",
       "CIHUATLAN, JAL                           1567\n",
       "CINTALAPA, CHIS                          1527\n",
       "S PEDRO POCHUTLA, OAX                    1406\n",
       "ARRIAGA , CHIS                           1405\n",
       "JUCHITAN DE ZARAGOZA, OAX                1404\n",
       "CD IXTEPEC, OAX                          1376\n",
       "ATOYAC DE ALVAREZ, GRO                   1291\n",
       "TEHUANTEPEC, OAX                         1192\n",
       "                                        ...  \n",
       "NVO S J PARANGARICUTIRO, MI                 1\n",
       "F CARRILLO PUERTO, QR                       1\n",
       "CD MANUEL DOBLADO, GTO                      1\n",
       "CD CANATLAN, DGO                            1\n",
       "FRESNILLO, ZAC                              1\n",
       "EBANO, SLP                                  1\n",
       "S MIGUEL VINDHO, HGO                        1\n",
       "CHERAN, MICH                                1\n",
       "SOLEDAD DE GNO SANCHEZ, SLP                 1\n",
       "MINERAL DEL MONTE, HGO                      1\n",
       "APASEO EL ALTO, GTO                         1\n",
       "TEOLOYUCAN, MEX                             1\n",
       "S FCO. DE LOS ROMO, AGS                     1\n",
       "SGO DE QUERETARO, QRO                       1\n",
       "VILLA HIDALGO, JAL                          1\n",
       "GUADALUPE, ZAC                              1\n",
       "OJO DE AGUA, MEX                            1\n",
       "LOS REYES DE SALGADO, MICH                  1\n",
       "MELCHOR OCAMPO, MEX                         1\n",
       "MOTUL DE C PUERTO, YUC                      1\n",
       "JUAN JOSE RIOS, SIN                         1\n",
       "DOLORES HIDALGO, GTO                        1\n",
       "CASTAÃOS, COAH                             1\n",
       "TEZOYUCA, MEX                               1\n",
       "TEPATLAXCO DE HIDALGO, PUE                  1\n",
       "TLAPACOYAN, VER                             1\n",
       "PURUANDIRO, MICH                            1\n",
       "CD MADERO, TAMS                             1\n",
       "LA MAG TLALTELULCO, TLAX                    1\n",
       "36 km al SUROESTE DE TAPACHULA, CHIS        1\n",
       "Name: Localizacion, Length: 614, dtype: int64"
      ]
     },
     "execution_count": 161,
     "metadata": {},
     "output_type": "execute_result"
    }
   ],
   "source": [
    "import re\n",
    "regex = '^.*km al .*de '\n",
    "\n",
    "local_sub = lambda x: re.sub(regex,'',x)\n",
    "\n",
    "df['Localizacion']=df['Localizacion'].apply(local_sub)\n",
    "df['Localizacion'].value_counts()"
   ]
  },
  {
   "cell_type": "code",
   "execution_count": 162,
   "metadata": {},
   "outputs": [
    {
     "data": {
      "text/html": [
       "<div>\n",
       "<style scoped>\n",
       "    .dataframe tbody tr th:only-of-type {\n",
       "        vertical-align: middle;\n",
       "    }\n",
       "\n",
       "    .dataframe tbody tr th {\n",
       "        vertical-align: top;\n",
       "    }\n",
       "\n",
       "    .dataframe thead th {\n",
       "        text-align: right;\n",
       "    }\n",
       "</style>\n",
       "<table border=\"1\" class=\"dataframe\">\n",
       "  <thead>\n",
       "    <tr style=\"text-align: right;\">\n",
       "      <th></th>\n",
       "      <th>Magnitud</th>\n",
       "      <th>Latitud</th>\n",
       "      <th>Longitud</th>\n",
       "      <th>Profundidad</th>\n",
       "    </tr>\n",
       "  </thead>\n",
       "  <tbody>\n",
       "    <tr>\n",
       "      <th>Magnitud</th>\n",
       "      <td>1.000000</td>\n",
       "      <td>-0.122907</td>\n",
       "      <td>0.137557</td>\n",
       "      <td>0.144579</td>\n",
       "    </tr>\n",
       "    <tr>\n",
       "      <th>Latitud</th>\n",
       "      <td>-0.122907</td>\n",
       "      <td>1.000000</td>\n",
       "      <td>-0.889023</td>\n",
       "      <td>-0.161381</td>\n",
       "    </tr>\n",
       "    <tr>\n",
       "      <th>Longitud</th>\n",
       "      <td>0.137557</td>\n",
       "      <td>-0.889023</td>\n",
       "      <td>1.000000</td>\n",
       "      <td>0.348676</td>\n",
       "    </tr>\n",
       "    <tr>\n",
       "      <th>Profundidad</th>\n",
       "      <td>0.144579</td>\n",
       "      <td>-0.161381</td>\n",
       "      <td>0.348676</td>\n",
       "      <td>1.000000</td>\n",
       "    </tr>\n",
       "  </tbody>\n",
       "</table>\n",
       "</div>"
      ],
      "text/plain": [
       "             Magnitud   Latitud  Longitud  Profundidad\n",
       "Magnitud     1.000000 -0.122907  0.137557     0.144579\n",
       "Latitud     -0.122907  1.000000 -0.889023    -0.161381\n",
       "Longitud     0.137557 -0.889023  1.000000     0.348676\n",
       "Profundidad  0.144579 -0.161381  0.348676     1.000000"
      ]
     },
     "execution_count": 162,
     "metadata": {},
     "output_type": "execute_result"
    }
   ],
   "source": [
    "df.corr()"
   ]
  },
  {
   "cell_type": "code",
   "execution_count": 163,
   "metadata": {},
   "outputs": [],
   "source": [
    "from sklearn.preprocessing import OneHotEncoder\n",
    "from sklearn.preprocessing import LabelEncoder\n",
    "\n",
    "data = df['Localizacion'].values\n",
    "label_encoder = LabelEncoder()\n",
    "integer_encoded = label_encoder.fit_transform(data)"
   ]
  },
  {
   "cell_type": "code",
   "execution_count": 164,
   "metadata": {},
   "outputs": [
    {
     "data": {
      "text/plain": [
       "array([[0., 0., 0., ..., 0., 0., 0.],\n",
       "       [0., 0., 0., ..., 0., 0., 0.],\n",
       "       [0., 0., 0., ..., 0., 0., 0.],\n",
       "       ...,\n",
       "       [0., 0., 0., ..., 0., 0., 0.],\n",
       "       [0., 0., 0., ..., 0., 0., 0.],\n",
       "       [0., 0., 0., ..., 0., 0., 0.]])"
      ]
     },
     "execution_count": 164,
     "metadata": {},
     "output_type": "execute_result"
    }
   ],
   "source": [
    "one_hot = OneHotEncoder(sparse=False)\n",
    "integer_encoded = integer_encoded.reshape(len(integer_encoded), 1)\n",
    "one_hot.fit_transform(integer_encoded)"
   ]
  },
  {
   "cell_type": "code",
   "execution_count": 165,
   "metadata": {},
   "outputs": [
    {
     "data": {
      "text/html": [
       "<div>\n",
       "<style scoped>\n",
       "    .dataframe tbody tr th:only-of-type {\n",
       "        vertical-align: middle;\n",
       "    }\n",
       "\n",
       "    .dataframe tbody tr th {\n",
       "        vertical-align: top;\n",
       "    }\n",
       "\n",
       "    .dataframe thead th {\n",
       "        text-align: right;\n",
       "    }\n",
       "</style>\n",
       "<table border=\"1\" class=\"dataframe\">\n",
       "  <thead>\n",
       "    <tr style=\"text-align: right;\">\n",
       "      <th></th>\n",
       "      <th>Magnitud</th>\n",
       "      <th>Latitud</th>\n",
       "      <th>Longitud</th>\n",
       "      <th>Profundidad</th>\n",
       "    </tr>\n",
       "  </thead>\n",
       "  <tbody>\n",
       "    <tr>\n",
       "      <th>count</th>\n",
       "      <td>137020.000000</td>\n",
       "      <td>137020.000000</td>\n",
       "      <td>137020.000000</td>\n",
       "      <td>137020.000000</td>\n",
       "    </tr>\n",
       "    <tr>\n",
       "      <th>mean</th>\n",
       "      <td>3.724684</td>\n",
       "      <td>17.330889</td>\n",
       "      <td>-98.130885</td>\n",
       "      <td>34.847759</td>\n",
       "    </tr>\n",
       "    <tr>\n",
       "      <th>std</th>\n",
       "      <td>0.424182</td>\n",
       "      <td>3.826909</td>\n",
       "      <td>5.422786</td>\n",
       "      <td>36.466945</td>\n",
       "    </tr>\n",
       "    <tr>\n",
       "      <th>min</th>\n",
       "      <td>1.200000</td>\n",
       "      <td>11.752000</td>\n",
       "      <td>-120.595000</td>\n",
       "      <td>1.000000</td>\n",
       "    </tr>\n",
       "    <tr>\n",
       "      <th>25%</th>\n",
       "      <td>3.500000</td>\n",
       "      <td>15.590000</td>\n",
       "      <td>-100.050000</td>\n",
       "      <td>10.200000</td>\n",
       "    </tr>\n",
       "    <tr>\n",
       "      <th>50%</th>\n",
       "      <td>3.724684</td>\n",
       "      <td>16.320000</td>\n",
       "      <td>-97.590000</td>\n",
       "      <td>20.000000</td>\n",
       "    </tr>\n",
       "    <tr>\n",
       "      <th>75%</th>\n",
       "      <td>3.900000</td>\n",
       "      <td>17.330000</td>\n",
       "      <td>-94.450000</td>\n",
       "      <td>43.000000</td>\n",
       "    </tr>\n",
       "    <tr>\n",
       "      <th>max</th>\n",
       "      <td>8.200000</td>\n",
       "      <td>33.466500</td>\n",
       "      <td>-85.546700</td>\n",
       "      <td>338.000000</td>\n",
       "    </tr>\n",
       "  </tbody>\n",
       "</table>\n",
       "</div>"
      ],
      "text/plain": [
       "            Magnitud        Latitud       Longitud    Profundidad\n",
       "count  137020.000000  137020.000000  137020.000000  137020.000000\n",
       "mean        3.724684      17.330889     -98.130885      34.847759\n",
       "std         0.424182       3.826909       5.422786      36.466945\n",
       "min         1.200000      11.752000    -120.595000       1.000000\n",
       "25%         3.500000      15.590000    -100.050000      10.200000\n",
       "50%         3.724684      16.320000     -97.590000      20.000000\n",
       "75%         3.900000      17.330000     -94.450000      43.000000\n",
       "max         8.200000      33.466500     -85.546700     338.000000"
      ]
     },
     "execution_count": 165,
     "metadata": {},
     "output_type": "execute_result"
    }
   ],
   "source": [
    "df.describe()"
   ]
  },
  {
   "cell_type": "code",
   "execution_count": 166,
   "metadata": {},
   "outputs": [
    {
     "data": {
      "text/html": [
       "<div>\n",
       "<style scoped>\n",
       "    .dataframe tbody tr th:only-of-type {\n",
       "        vertical-align: middle;\n",
       "    }\n",
       "\n",
       "    .dataframe tbody tr th {\n",
       "        vertical-align: top;\n",
       "    }\n",
       "\n",
       "    .dataframe thead th {\n",
       "        text-align: right;\n",
       "    }\n",
       "</style>\n",
       "<table border=\"1\" class=\"dataframe\">\n",
       "  <thead>\n",
       "    <tr style=\"text-align: right;\">\n",
       "      <th></th>\n",
       "      <th>Magnitud</th>\n",
       "      <th>Latitud</th>\n",
       "      <th>Longitud</th>\n",
       "      <th>Profundidad</th>\n",
       "    </tr>\n",
       "  </thead>\n",
       "  <tbody>\n",
       "    <tr>\n",
       "      <th>Magnitud</th>\n",
       "      <td>1.000000</td>\n",
       "      <td>-0.122907</td>\n",
       "      <td>0.137557</td>\n",
       "      <td>0.144579</td>\n",
       "    </tr>\n",
       "    <tr>\n",
       "      <th>Latitud</th>\n",
       "      <td>-0.122907</td>\n",
       "      <td>1.000000</td>\n",
       "      <td>-0.889023</td>\n",
       "      <td>-0.161381</td>\n",
       "    </tr>\n",
       "    <tr>\n",
       "      <th>Longitud</th>\n",
       "      <td>0.137557</td>\n",
       "      <td>-0.889023</td>\n",
       "      <td>1.000000</td>\n",
       "      <td>0.348676</td>\n",
       "    </tr>\n",
       "    <tr>\n",
       "      <th>Profundidad</th>\n",
       "      <td>0.144579</td>\n",
       "      <td>-0.161381</td>\n",
       "      <td>0.348676</td>\n",
       "      <td>1.000000</td>\n",
       "    </tr>\n",
       "  </tbody>\n",
       "</table>\n",
       "</div>"
      ],
      "text/plain": [
       "             Magnitud   Latitud  Longitud  Profundidad\n",
       "Magnitud     1.000000 -0.122907  0.137557     0.144579\n",
       "Latitud     -0.122907  1.000000 -0.889023    -0.161381\n",
       "Longitud     0.137557 -0.889023  1.000000     0.348676\n",
       "Profundidad  0.144579 -0.161381  0.348676     1.000000"
      ]
     },
     "execution_count": 166,
     "metadata": {},
     "output_type": "execute_result"
    }
   ],
   "source": [
    "df.corr()"
   ]
  },
  {
   "cell_type": "code",
   "execution_count": 167,
   "metadata": {},
   "outputs": [
    {
     "data": {
      "image/png": "[encoded data removed]",
      "text/plain": [
       "<Figure size 1440x1080 with 4 Axes>"
      ]
     },
     "metadata": {},
     "output_type": "display_data"
    }
   ],
   "source": [
    "%matplotlib inline\n",
    "import matplotlib.pyplot as plt\n",
    "df.hist(bins=15, figsize=(20,15))\n",
    "plt.show()"
   ]
  },
  {
   "cell_type": "code",
   "execution_count": 169,
   "metadata": {},
   "outputs": [],
   "source": [
    "#df.plot(kind=\"scatter\", x=\"Longitud\", y=\"Latitud\", alpha=0.4,s=df['Magnitud'].pow(1.5), label=\"Magnitud\", figsize=(12,8),c=\"Magnitud\", cmap=plt.get_cmap(\"seismic\"), colorbar=True,sharex=False)\n",
    "#plt.legend()"
   ]
  },
  {
   "cell_type": "code",
   "execution_count": 170,
   "metadata": {},
   "outputs": [],
   "source": [
    "from pandas.plotting import scatter_matrix\n",
    "\n",
    "attributes = [\"Magnitud\", \"Profundidad\", \"Longitud\", \"Latitud\"]\n",
    "#scatter_matrix(df[attributes], figsize=(12, 8))"
   ]
  },
  {
   "cell_type": "code",
   "execution_count": 171,
   "metadata": {},
   "outputs": [],
   "source": [
    "#df.set_index(['Fecha_Hora'],inplace=True)"
   ]
  },
  {
   "cell_type": "code",
   "execution_count": 172,
   "metadata": {},
   "outputs": [],
   "source": [
    "#df[-136000:].plot(y=['Magnitud','Profundidad'],figsize=(20,14), alpha=0.5)\n",
    "#df[df.Magnitud>6.5].plot(y='Magnitud',figsize=(20,14), alpha=0.3)"
   ]
  },
  {
   "cell_type": "code",
   "execution_count": 193,
   "metadata": {},
   "outputs": [
    {
     "name": "stdout",
     "output_type": "stream",
     "text": [
      "137020\n"
     ]
    }
   ],
   "source": []
  },
  {
   "cell_type": "code",
   "execution_count": 200,
   "metadata": {},
   "outputs": [
    {
     "name": "stdout",
     "output_type": "stream",
     "text": [
      "<class 'numpy.ndarray'>\n"
     ]
    },
    {
     "ename": "ValueError",
     "evalue": "Cannot have number of splits n_splits=3 greater than the number of samples: 0.",
     "output_type": "error",
     "traceback": [
      "\u001b[0;31m---------------------------------------------------------------------------\u001b[0m",
      "\u001b[0;31mValueError\u001b[0m                                Traceback (most recent call last)",
      "\u001b[0;32m<ipython-input-200-9a36229c628b>\u001b[0m in \u001b[0;36m<module>\u001b[0;34m()\u001b[0m\n\u001b[1;32m      6\u001b[0m \u001b[0mX\u001b[0m\u001b[0;34m,\u001b[0m \u001b[0my\u001b[0m \u001b[0;34m=\u001b[0m \u001b[0mX\u001b[0m\u001b[0;34m[\u001b[0m\u001b[0mindices\u001b[0m\u001b[0;34m]\u001b[0m\u001b[0;34m,\u001b[0m \u001b[0my\u001b[0m\u001b[0;34m[\u001b[0m\u001b[0mindices\u001b[0m\u001b[0;34m]\u001b[0m\u001b[0;34m\u001b[0m\u001b[0m\n\u001b[1;32m      7\u001b[0m \u001b[0;34m\u001b[0m\u001b[0m\n\u001b[0;32m----> 8\u001b[0;31m \u001b[0mtrain_scores\u001b[0m\u001b[0;34m,\u001b[0m \u001b[0mvalid_scores\u001b[0m \u001b[0;34m=\u001b[0m \u001b[0mvalidation_curve\u001b[0m\u001b[0;34m(\u001b[0m\u001b[0mRidge\u001b[0m\u001b[0;34m(\u001b[0m\u001b[0;34m)\u001b[0m\u001b[0;34m,\u001b[0m \u001b[0mX\u001b[0m\u001b[0;34m,\u001b[0m \u001b[0my\u001b[0m\u001b[0;34m,\u001b[0m \u001b[0;34m\"alpha\"\u001b[0m\u001b[0;34m,\u001b[0m \u001b[0mnp\u001b[0m\u001b[0;34m.\u001b[0m\u001b[0mlogspace\u001b[0m\u001b[0;34m(\u001b[0m\u001b[0;34m-\u001b[0m\u001b[0;36m7\u001b[0m\u001b[0;34m,\u001b[0m \u001b[0;36m1\u001b[0m\u001b[0;34m,\u001b[0m \u001b[0;36m1\u001b[0m\u001b[0;34m)\u001b[0m\u001b[0;34m)\u001b[0m\u001b[0;34m\u001b[0m\u001b[0m\n\u001b[0m\u001b[1;32m      9\u001b[0m \u001b[0mtrain_scores\u001b[0m\u001b[0;34m\u001b[0m\u001b[0m\n\u001b[1;32m     10\u001b[0m \u001b[0;34m\u001b[0m\u001b[0m\n",
      "\u001b[0;32m~/.local/lib/python3.5/site-packages/sklearn/model_selection/_validation.py\u001b[0m in \u001b[0;36mvalidation_curve\u001b[0;34m(estimator, X, y, param_name, param_range, groups, cv, scoring, n_jobs, pre_dispatch, verbose)\u001b[0m\n\u001b[1;32m   1309\u001b[0m         parameters={param_name: v}, fit_params=None, return_train_score=True)\n\u001b[1;32m   1310\u001b[0m         \u001b[0;31m# NOTE do not change order of iteration to allow one time cv splitters\u001b[0m\u001b[0;34m\u001b[0m\u001b[0;34m\u001b[0m\u001b[0m\n\u001b[0;32m-> 1311\u001b[0;31m         for train, test in cv.split(X, y, groups) for v in param_range)\n\u001b[0m\u001b[1;32m   1312\u001b[0m     \u001b[0mout\u001b[0m \u001b[0;34m=\u001b[0m \u001b[0mnp\u001b[0m\u001b[0;34m.\u001b[0m\u001b[0masarray\u001b[0m\u001b[0;34m(\u001b[0m\u001b[0mout\u001b[0m\u001b[0;34m)\u001b[0m\u001b[0;34m\u001b[0m\u001b[0m\n\u001b[1;32m   1313\u001b[0m     \u001b[0mn_params\u001b[0m \u001b[0;34m=\u001b[0m \u001b[0mlen\u001b[0m\u001b[0;34m(\u001b[0m\u001b[0mparam_range\u001b[0m\u001b[0;34m)\u001b[0m\u001b[0;34m\u001b[0m\u001b[0m\n",
      "\u001b[0;32m~/.local/lib/python3.5/site-packages/sklearn/externals/joblib/parallel.py\u001b[0m in \u001b[0;36m__call__\u001b[0;34m(self, iterable)\u001b[0m\n\u001b[1;32m    777\u001b[0m             \u001b[0;31m# was dispatched. In particular this covers the edge\u001b[0m\u001b[0;34m\u001b[0m\u001b[0;34m\u001b[0m\u001b[0m\n\u001b[1;32m    778\u001b[0m             \u001b[0;31m# case of Parallel used with an exhausted iterator.\u001b[0m\u001b[0;34m\u001b[0m\u001b[0;34m\u001b[0m\u001b[0m\n\u001b[0;32m--> 779\u001b[0;31m             \u001b[0;32mwhile\u001b[0m \u001b[0mself\u001b[0m\u001b[0;34m.\u001b[0m\u001b[0mdispatch_one_batch\u001b[0m\u001b[0;34m(\u001b[0m\u001b[0miterator\u001b[0m\u001b[0;34m)\u001b[0m\u001b[0;34m:\u001b[0m\u001b[0;34m\u001b[0m\u001b[0m\n\u001b[0m\u001b[1;32m    780\u001b[0m                 \u001b[0mself\u001b[0m\u001b[0;34m.\u001b[0m\u001b[0m_iterating\u001b[0m \u001b[0;34m=\u001b[0m \u001b[0;32mTrue\u001b[0m\u001b[0;34m\u001b[0m\u001b[0m\n\u001b[1;32m    781\u001b[0m             \u001b[0;32melse\u001b[0m\u001b[0;34m:\u001b[0m\u001b[0;34m\u001b[0m\u001b[0m\n",
      "\u001b[0;32m~/.local/lib/python3.5/site-packages/sklearn/externals/joblib/parallel.py\u001b[0m in \u001b[0;36mdispatch_one_batch\u001b[0;34m(self, iterator)\u001b[0m\n\u001b[1;32m    618\u001b[0m \u001b[0;34m\u001b[0m\u001b[0m\n\u001b[1;32m    619\u001b[0m         \u001b[0;32mwith\u001b[0m \u001b[0mself\u001b[0m\u001b[0;34m.\u001b[0m\u001b[0m_lock\u001b[0m\u001b[0;34m:\u001b[0m\u001b[0;34m\u001b[0m\u001b[0m\n\u001b[0;32m--> 620\u001b[0;31m             \u001b[0mtasks\u001b[0m \u001b[0;34m=\u001b[0m \u001b[0mBatchedCalls\u001b[0m\u001b[0;34m(\u001b[0m\u001b[0mitertools\u001b[0m\u001b[0;34m.\u001b[0m\u001b[0mislice\u001b[0m\u001b[0;34m(\u001b[0m\u001b[0miterator\u001b[0m\u001b[0;34m,\u001b[0m \u001b[0mbatch_size\u001b[0m\u001b[0;34m)\u001b[0m\u001b[0;34m)\u001b[0m\u001b[0;34m\u001b[0m\u001b[0m\n\u001b[0m\u001b[1;32m    621\u001b[0m             \u001b[0;32mif\u001b[0m \u001b[0mlen\u001b[0m\u001b[0;34m(\u001b[0m\u001b[0mtasks\u001b[0m\u001b[0;34m)\u001b[0m \u001b[0;34m==\u001b[0m \u001b[0;36m0\u001b[0m\u001b[0;34m:\u001b[0m\u001b[0;34m\u001b[0m\u001b[0m\n\u001b[1;32m    622\u001b[0m                 \u001b[0;31m# No more tasks available in the iterator: tell caller to stop.\u001b[0m\u001b[0;34m\u001b[0m\u001b[0;34m\u001b[0m\u001b[0m\n",
      "\u001b[0;32m~/.local/lib/python3.5/site-packages/sklearn/externals/joblib/parallel.py\u001b[0m in \u001b[0;36m__init__\u001b[0;34m(self, iterator_slice)\u001b[0m\n\u001b[1;32m    125\u001b[0m \u001b[0;34m\u001b[0m\u001b[0m\n\u001b[1;32m    126\u001b[0m     \u001b[0;32mdef\u001b[0m \u001b[0m__init__\u001b[0m\u001b[0;34m(\u001b[0m\u001b[0mself\u001b[0m\u001b[0;34m,\u001b[0m \u001b[0miterator_slice\u001b[0m\u001b[0;34m)\u001b[0m\u001b[0;34m:\u001b[0m\u001b[0;34m\u001b[0m\u001b[0m\n\u001b[0;32m--> 127\u001b[0;31m         \u001b[0mself\u001b[0m\u001b[0;34m.\u001b[0m\u001b[0mitems\u001b[0m \u001b[0;34m=\u001b[0m \u001b[0mlist\u001b[0m\u001b[0;34m(\u001b[0m\u001b[0miterator_slice\u001b[0m\u001b[0;34m)\u001b[0m\u001b[0;34m\u001b[0m\u001b[0m\n\u001b[0m\u001b[1;32m    128\u001b[0m         \u001b[0mself\u001b[0m\u001b[0;34m.\u001b[0m\u001b[0m_size\u001b[0m \u001b[0;34m=\u001b[0m \u001b[0mlen\u001b[0m\u001b[0;34m(\u001b[0m\u001b[0mself\u001b[0m\u001b[0;34m.\u001b[0m\u001b[0mitems\u001b[0m\u001b[0;34m)\u001b[0m\u001b[0;34m\u001b[0m\u001b[0m\n\u001b[1;32m    129\u001b[0m \u001b[0;34m\u001b[0m\u001b[0m\n",
      "\u001b[0;32m~/.local/lib/python3.5/site-packages/sklearn/model_selection/_validation.py\u001b[0m in \u001b[0;36m<genexpr>\u001b[0;34m(.0)\u001b[0m\n\u001b[1;32m   1305\u001b[0m     parallel = Parallel(n_jobs=n_jobs, pre_dispatch=pre_dispatch,\n\u001b[1;32m   1306\u001b[0m                         verbose=verbose)\n\u001b[0;32m-> 1307\u001b[0;31m     out = parallel(delayed(_fit_and_score)(\n\u001b[0m\u001b[1;32m   1308\u001b[0m         \u001b[0mclone\u001b[0m\u001b[0;34m(\u001b[0m\u001b[0mestimator\u001b[0m\u001b[0;34m)\u001b[0m\u001b[0;34m,\u001b[0m \u001b[0mX\u001b[0m\u001b[0;34m,\u001b[0m \u001b[0my\u001b[0m\u001b[0;34m,\u001b[0m \u001b[0mscorer\u001b[0m\u001b[0;34m,\u001b[0m \u001b[0mtrain\u001b[0m\u001b[0;34m,\u001b[0m \u001b[0mtest\u001b[0m\u001b[0;34m,\u001b[0m \u001b[0mverbose\u001b[0m\u001b[0;34m,\u001b[0m\u001b[0;34m\u001b[0m\u001b[0m\n\u001b[1;32m   1309\u001b[0m         parameters={param_name: v}, fit_params=None, return_train_score=True)\n",
      "\u001b[0;32m~/.local/lib/python3.5/site-packages/sklearn/model_selection/_split.py\u001b[0m in \u001b[0;36msplit\u001b[0;34m(self, X, y, groups)\u001b[0m\n\u001b[1;32m    328\u001b[0m                 (\"Cannot have number of splits n_splits={0} greater\"\n\u001b[1;32m    329\u001b[0m                  \u001b[0;34m\" than the number of samples: {1}.\"\u001b[0m\u001b[0;34m)\u001b[0m\u001b[0;34m.\u001b[0m\u001b[0mformat\u001b[0m\u001b[0;34m(\u001b[0m\u001b[0mself\u001b[0m\u001b[0;34m.\u001b[0m\u001b[0mn_splits\u001b[0m\u001b[0;34m,\u001b[0m\u001b[0;34m\u001b[0m\u001b[0m\n\u001b[0;32m--> 330\u001b[0;31m                                                              n_samples))\n\u001b[0m\u001b[1;32m    331\u001b[0m \u001b[0;34m\u001b[0m\u001b[0m\n\u001b[1;32m    332\u001b[0m         \u001b[0;32mfor\u001b[0m \u001b[0mtrain\u001b[0m\u001b[0;34m,\u001b[0m \u001b[0mtest\u001b[0m \u001b[0;32min\u001b[0m \u001b[0msuper\u001b[0m\u001b[0;34m(\u001b[0m\u001b[0m_BaseKFold\u001b[0m\u001b[0;34m,\u001b[0m \u001b[0mself\u001b[0m\u001b[0;34m)\u001b[0m\u001b[0;34m.\u001b[0m\u001b[0msplit\u001b[0m\u001b[0;34m(\u001b[0m\u001b[0mX\u001b[0m\u001b[0;34m,\u001b[0m \u001b[0my\u001b[0m\u001b[0;34m,\u001b[0m \u001b[0mgroups\u001b[0m\u001b[0;34m)\u001b[0m\u001b[0;34m:\u001b[0m\u001b[0;34m\u001b[0m\u001b[0m\n",
      "\u001b[0;31mValueError\u001b[0m: Cannot have number of splits n_splits=3 greater than the number of samples: 0."
     ]
    }
   ],
   "source": []
  },
  {
   "cell_type": "code",
   "execution_count": null,
   "metadata": {},
   "outputs": [],
   "source": []
  }
 ],
 "metadata": {
  "kernelspec": {
   "display_name": "Python 3",
   "language": "python",
   "name": "python3"
  },
  "language_info": {
   "codemirror_mode": {
    "name": "ipython",
    "version": 3
   },
   "file_extension": ".py",
   "mimetype": "text/x-python",
   "name": "python",
   "nbconvert_exporter": "python",
   "pygments_lexer": "ipython3",
   "version": "3.5.2"
  }
 },
 "nbformat": 4,
 "nbformat_minor": 2
}
