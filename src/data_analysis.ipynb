{
 "cells": [
  {
   "cell_type": "code",
   "execution_count": 40,
   "metadata": {},
   "outputs": [
    {
     "name": "stderr",
     "output_type": "stream",
     "text": [
      "/anaconda3/lib/python3.6/site-packages/IPython/core/interactiveshell.py:2785: DtypeWarning: Columns (2,5) have mixed types. Specify dtype option on import or set low_memory=False.\n",
      "  interactivity=interactivity, compiler=compiler, result=result)\n"
     ]
    }
   ],
   "source": [
    "import pandas as pd\n",
    "import numpy as np\n",
    "\n",
    "df = pd.read_csv('../data/sismos.csv', encoding='latin1')\n",
    "data = pd.read_csv('../data/sismos.csv', encoding='latin1')\n",
    "\n",
    "df.replace('en revision', np.nan, inplace=True)\n",
    "df.replace('no calculable', np.nan, inplace=True)\n",
    "df['Fecha_Hora']=pd.to_datetime(df['Fecha'] + ' '+ df['Hora'])\n",
    "df_labels = pd.DataFrame(df['Profundidad'],columns=['Profundidad'])\n",
    "df.drop(columns=['Fecha','Hora','Fecha_UTC','Hora_UTC','Estatus','Profundidad'], inplace=True, axis=1)\n",
    "df_num = df.drop(['Localizacion','Fecha_Hora'], axis=1)\n"
   ]
  },
  {
   "cell_type": "code",
   "execution_count": 41,
   "metadata": {},
   "outputs": [
    {
     "name": "stderr",
     "output_type": "stream",
     "text": [
      "/anaconda3/lib/python3.6/site-packages/sklearn/utils/deprecation.py:58: DeprecationWarning: Class Imputer is deprecated; Imputer was deprecated in version 0.20 and will be removed in 0.22. Import impute.SimpleImputer from sklearn instead.\n",
      "  warnings.warn(msg, category=DeprecationWarning)\n"
     ]
    },
    {
     "data": {
      "text/plain": [
       "array([[   7.4 ,   20.  , -105.  , ...,    0.  ,    0.  ,    0.  ],\n",
       "       [   6.9 ,   20.  , -105.  , ...,    0.  ,    0.  ,    0.  ],\n",
       "       [   6.9 ,   25.  , -110.  , ...,    0.  ,    0.  ,    0.  ],\n",
       "       ...,\n",
       "       [   2.4 ,   19.19, -104.24, ...,    0.  ,    0.  ,    0.  ],\n",
       "       [   3.3 ,   19.34, -104.49, ...,    0.  ,    0.  ,    0.  ],\n",
       "       [   3.5 ,   16.39,  -94.91, ...,    0.  ,    0.  ,    0.  ]])"
      ]
     },
     "execution_count": 41,
     "metadata": {},
     "output_type": "execute_result"
    }
   ],
   "source": [
    "import re\n",
    "regex = '^.*km al .*de .*,'dtg\n",
    "x\n",
    "local_sub = lambda x: re.sub(regex,'',x)\n",
    "\n",
    "df['Localizacion']=df['Localizacion'].apply(local_sub)\n",
    "df['Localizacion'].value_counts()\n",
    "\n",
    "median = df['Magnitud'].median()\n",
    "df['Magnitud'].fillna(median,inplace=True)\n",
    "df_num_attr =list(df_num)\n",
    "df_one_attr = ['Localizacion']\n",
    "\n",
    "median = df_labels['Profundidad'].median()\n",
    "df_labels['Profundidad'].fillna(median, inplace=True)\n",
    "\n",
    "from sklearn.pipeline import Pipeline\n",
    "from sklearn.preprocessing import Imputer\n",
    "from sklearn.pipeline import FeatureUnion\n",
    "from sklearn.base import BaseEstimator, TransformerMixin\n",
    "from sklearn.preprocessing import OneHotEncoder\n",
    "\n",
    "class DataFrameSelector(BaseEstimator, TransformerMixin):\n",
    "    def __init__(self, attribute_names):\n",
    "        self.attribute_names = attribute_names\n",
    "    def fit(self, X, y=None):\n",
    "        return self\n",
    "    def transform(self, X):\n",
    "        return X[self.attribute_names].values\n",
    "\n",
    "num_pipeline = Pipeline([('selector',DataFrameSelector(df_num_attr)),('imputer',Imputer(strategy='median')),])\n",
    "cat_pipeline = Pipeline([('selector',DataFrameSelector(df_one_attr)),('one_encoder',OneHotEncoder(sparse=False)),])\n",
    "full_pipeline = FeatureUnion(transformer_list=[('num_pipeline',num_pipeline),('cat_pipeline',cat_pipeline),])\n",
    "\n",
    "earthquakes_prepared = full_pipeline.fit_transform(df)\n",
    "earthquakes_prepared\n",
    "\n",
    "#imputer = Imputer(strategy='median')\n",
    "##imputer.fit(df_num)\n",
    "#imputer.statistics_\n",
    "##df_num = pd.DataFrame(imputer.transform(df_num), columns=df_num.columns)"
   ]
  },
  {
   "cell_type": "code",
   "execution_count": 42,
   "metadata": {},
   "outputs": [
    {
     "data": {
      "text/plain": [
       "LinearRegression(copy_X=True, fit_intercept=True, n_jobs=None,\n",
       "         normalize=False)"
      ]
     },
     "execution_count": 42,
     "metadata": {},
     "output_type": "execute_result"
    }
   ],
   "source": [
    "from sklearn.linear_model import LinearRegression\n",
    "\n",
    "linear_reg = LinearRegression()\n",
    "linear_reg.fit(earthquakes_prepared,df_labels)"
   ]
  },
  {
   "cell_type": "code",
   "execution_count": 43,
   "metadata": {},
   "outputs": [
    {
     "data": {
      "text/plain": [
       "array([[69.0890875 ],\n",
       "       [64.66505231],\n",
       "       [34.04523802],\n",
       "       [49.96771656],\n",
       "       [67.20166276]])"
      ]
     },
     "execution_count": 43,
     "metadata": {},
     "output_type": "execute_result"
    }
   ],
   "source": [
    "some_data = df.iloc[:5]\n",
    "some_labels = df_labels.iloc[:5]\n",
    "some_data_prepared = full_pipeline.transform(some_data)\n",
    "\n",
    "linear_reg.predict(some_data_prepared)"
   ]
  },
  {
   "cell_type": "code",
   "execution_count": 44,
   "metadata": {},
   "outputs": [
    {
     "data": {
      "text/plain": [
       "29.047939059495985"
      ]
     },
     "execution_count": 44,
     "metadata": {},
     "output_type": "execute_result"
    }
   ],
   "source": [
    "from sklearn.metrics import mean_squared_error\n",
    "\n",
    "earthquake_predictions = linear_reg.predict(earthquakes_prepared)\n",
    "lin_mse = mean_squared_error(earthquake_predictions, df_labels)\n",
    "lin_rmse = np.sqrt(lin_mse)\n",
    "lin_rmse"
   ]
  },
  {
   "cell_type": "code",
   "execution_count": 45,
   "metadata": {},
   "outputs": [
    {
     "data": {
      "text/plain": [
       "3.564526993046849"
      ]
     },
     "execution_count": 45,
     "metadata": {},
     "output_type": "execute_result"
    }
   ],
   "source": [
    "from sklearn.tree import DecisionTreeRegressor\n",
    "tree_reg = DecisionTreeRegressor()\n",
    "tree_reg.fit(earthquakes_prepared,df_labels)\n",
    "tree_predictions = tree_reg.predict(earthquakes_prepared)\n",
    "lin_mse = mean_squared_error(tree_predictions, df_labels)\n",
    "lin_rmse = np.sqrt(lin_mse)\n",
    "lin_rmse"
   ]
  },
  {
   "cell_type": "code",
   "execution_count": 46,
   "metadata": {},
   "outputs": [
    {
     "name": "stdout",
     "output_type": "stream",
     "text": [
      "Scores: [35.87016131 37.6122951  32.43483694 31.07662253 28.94821864 27.37606909\n",
      " 27.07675461 27.0890647  30.62023239 25.36730229]\n",
      "Mean: 30.347155760032205\n",
      "Standard Deviation: 3.8097893377885286\n"
     ]
    }
   ],
   "source": [
    "from sklearn.model_selection import cross_val_score\n",
    "\n",
    "scores = cross_val_score(tree_reg, earthquakes_prepared, df_labels, scoring=\"neg_mean_squared_error\", cv=10)\n",
    "tree_rmse_scores = np.sqrt(-scores)\n",
    "\n",
    "def display_scores(scores):\n",
    "    print('Scores:',scores)\n",
    "    print('Mean:',scores.mean())\n",
    "    print('Standard Deviation:',scores.std())\n",
    "\n",
    "display_scores(tree_rmse_scores)"
   ]
  },
  {
   "cell_type": "code",
   "execution_count": 47,
   "metadata": {},
   "outputs": [
    {
     "name": "stdout",
     "output_type": "stream",
     "text": [
      "Scores: [3.32295558e+01 3.24719635e+01 3.34129774e+01 3.17219108e+01\n",
      " 2.91519005e+01 2.92381005e+01 2.81419334e+01 1.87052619e+10\n",
      " 2.75521113e+01 2.28981901e+01]\n",
      "Mean: 1870526220.167485\n",
      "Standard Deviation: 5611578571.229575\n"
     ]
    }
   ],
   "source": [
    "scores_lin = cross_val_score(linear_reg, earthquakes_prepared, df_labels, scoring='neg_mean_squared_error', cv=10)\n",
    "linear_reg_scores = np.sqrt(-scores_lin)\n",
    "display_scores(linear_reg_scores)"
   ]
  },
  {
   "cell_type": "code",
   "execution_count": 24,
   "metadata": {},
   "outputs": [
    {
     "name": "stderr",
     "output_type": "stream",
     "text": [
      "/anaconda3/lib/python3.6/site-packages/sklearn/ensemble/forest.py:248: FutureWarning: The default value of n_estimators will change from 10 in version 0.20 to 100 in 0.22.\n",
      "  \"10 in version 0.20 to 100 in 0.22.\", FutureWarning)\n",
      "/anaconda3/lib/python3.6/site-packages/ipykernel_launcher.py:4: DataConversionWarning: A column-vector y was passed when a 1d array was expected. Please change the shape of y to (n_samples,), for example using ravel().\n",
      "  after removing the cwd from sys.path.\n",
      "/anaconda3/lib/python3.6/site-packages/sklearn/model_selection/_validation.py:528: DataConversionWarning: A column-vector y was passed when a 1d array was expected. Please change the shape of y to (n_samples,), for example using ravel().\n",
      "  estimator.fit(X_train, y_train, **fit_params)\n",
      "/anaconda3/lib/python3.6/site-packages/sklearn/model_selection/_validation.py:528: DataConversionWarning: A column-vector y was passed when a 1d array was expected. Please change the shape of y to (n_samples,), for example using ravel().\n",
      "  estimator.fit(X_train, y_train, **fit_params)\n",
      "/anaconda3/lib/python3.6/site-packages/sklearn/model_selection/_validation.py:528: DataConversionWarning: A column-vector y was passed when a 1d array was expected. Please change the shape of y to (n_samples,), for example using ravel().\n",
      "  estimator.fit(X_train, y_train, **fit_params)\n",
      "/anaconda3/lib/python3.6/site-packages/sklearn/model_selection/_validation.py:528: DataConversionWarning: A column-vector y was passed when a 1d array was expected. Please change the shape of y to (n_samples,), for example using ravel().\n",
      "  estimator.fit(X_train, y_train, **fit_params)\n",
      "/anaconda3/lib/python3.6/site-packages/sklearn/model_selection/_validation.py:528: DataConversionWarning: A column-vector y was passed when a 1d array was expected. Please change the shape of y to (n_samples,), for example using ravel().\n",
      "  estimator.fit(X_train, y_train, **fit_params)\n",
      "/anaconda3/lib/python3.6/site-packages/sklearn/model_selection/_validation.py:528: DataConversionWarning: A column-vector y was passed when a 1d array was expected. Please change the shape of y to (n_samples,), for example using ravel().\n",
      "  estimator.fit(X_train, y_train, **fit_params)\n",
      "/anaconda3/lib/python3.6/site-packages/sklearn/model_selection/_validation.py:528: DataConversionWarning: A column-vector y was passed when a 1d array was expected. Please change the shape of y to (n_samples,), for example using ravel().\n",
      "  estimator.fit(X_train, y_train, **fit_params)\n",
      "/anaconda3/lib/python3.6/site-packages/sklearn/model_selection/_validation.py:528: DataConversionWarning: A column-vector y was passed when a 1d array was expected. Please change the shape of y to (n_samples,), for example using ravel().\n",
      "  estimator.fit(X_train, y_train, **fit_params)\n",
      "/anaconda3/lib/python3.6/site-packages/sklearn/model_selection/_validation.py:528: DataConversionWarning: A column-vector y was passed when a 1d array was expected. Please change the shape of y to (n_samples,), for example using ravel().\n",
      "  estimator.fit(X_train, y_train, **fit_params)\n",
      "/anaconda3/lib/python3.6/site-packages/sklearn/model_selection/_validation.py:528: DataConversionWarning: A column-vector y was passed when a 1d array was expected. Please change the shape of y to (n_samples,), for example using ravel().\n",
      "  estimator.fit(X_train, y_train, **fit_params)\n"
     ]
    },
    {
     "name": "stdout",
     "output_type": "stream",
     "text": [
      "Scores: [28.32619314 31.54480555 26.34487538 24.15686203 22.05503967 21.56415212\n",
      " 20.51388532 20.25680866 24.10141483 19.59752196]\n",
      "Mean: 23.846155865507065\n",
      "Standard Deviation: 3.690517639052877\n"
     ]
    }
   ],
   "source": [
    "from sklearn.ensemble import RandomForestRegressor\n",
    "\n",
    "forest_reg = RandomForestRegressor()\n",
    "forest_reg.fit(earthquakes_prepared, df_labels)\n",
    "\n",
    "scores_forest = cross_val_score(forest_reg, earthquakes_prepared, df_labels, scoring=\"neg_mean_squared_error\", cv=10)\n",
    "forest_reg_scores = np.sqrt(-scores_forest)\n",
    "display_scores(forest_reg_scores)"
   ]
  },
  {
   "cell_type": "code",
   "execution_count": 25,
   "metadata": {},
   "outputs": [
    {
     "data": {
      "text/html": [
       "<div>\n",
       "<style scoped>\n",
       "    .dataframe tbody tr th:only-of-type {\n",
       "        vertical-align: middle;\n",
       "    }\n",
       "\n",
       "    .dataframe tbody tr th {\n",
       "        vertical-align: top;\n",
       "    }\n",
       "\n",
       "    .dataframe thead th {\n",
       "        text-align: right;\n",
       "    }\n",
       "</style>\n",
       "<table border=\"1\" class=\"dataframe\">\n",
       "  <thead>\n",
       "    <tr style=\"text-align: right;\">\n",
       "      <th></th>\n",
       "      <th>Magnitud</th>\n",
       "      <th>Latitud</th>\n",
       "      <th>Longitud</th>\n",
       "      <th>Localizacion</th>\n",
       "      <th>Fecha_Hora</th>\n",
       "    </tr>\n",
       "  </thead>\n",
       "  <tbody>\n",
       "    <tr>\n",
       "      <th>0</th>\n",
       "      <td>7.4</td>\n",
       "      <td>20.00</td>\n",
       "      <td>-105.00</td>\n",
       "      <td>JAL</td>\n",
       "      <td>1900-01-20 00:33:30</td>\n",
       "    </tr>\n",
       "    <tr>\n",
       "      <th>1</th>\n",
       "      <td>6.9</td>\n",
       "      <td>20.00</td>\n",
       "      <td>-105.00</td>\n",
       "      <td>JAL</td>\n",
       "      <td>1900-05-16 14:12:00</td>\n",
       "    </tr>\n",
       "    <tr>\n",
       "      <th>2</th>\n",
       "      <td>6.9</td>\n",
       "      <td>25.00</td>\n",
       "      <td>-110.00</td>\n",
       "      <td>BCS</td>\n",
       "      <td>1901-03-05 04:45:00</td>\n",
       "    </tr>\n",
       "    <tr>\n",
       "      <th>3</th>\n",
       "      <td>7.0</td>\n",
       "      <td>26.00</td>\n",
       "      <td>-110.00</td>\n",
       "      <td>SIN</td>\n",
       "      <td>1901-12-08 20:17:00</td>\n",
       "    </tr>\n",
       "    <tr>\n",
       "      <th>4</th>\n",
       "      <td>7.0</td>\n",
       "      <td>17.62</td>\n",
       "      <td>-99.72</td>\n",
       "      <td>GRO</td>\n",
       "      <td>1902-01-16 17:19:00</td>\n",
       "    </tr>\n",
       "  </tbody>\n",
       "</table>\n",
       "</div>"
      ],
      "text/plain": [
       "  Magnitud  Latitud  Longitud Localizacion          Fecha_Hora\n",
       "0      7.4    20.00   -105.00          JAL 1900-01-20 00:33:30\n",
       "1      6.9    20.00   -105.00          JAL 1900-05-16 14:12:00\n",
       "2      6.9    25.00   -110.00          BCS 1901-03-05 04:45:00\n",
       "3      7.0    26.00   -110.00          SIN 1901-12-08 20:17:00\n",
       "4      7.0    17.62    -99.72          GRO 1902-01-16 17:19:00"
      ]
     },
     "execution_count": 25,
     "metadata": {},
     "output_type": "execute_result"
    }
   ],
   "source": [
    "some_data.head()"
   ]
  },
  {
   "cell_type": "code",
   "execution_count": 26,
   "metadata": {},
   "outputs": [
    {
     "data": {
      "text/html": [
       "<div>\n",
       "<style scoped>\n",
       "    .dataframe tbody tr th:only-of-type {\n",
       "        vertical-align: middle;\n",
       "    }\n",
       "\n",
       "    .dataframe tbody tr th {\n",
       "        vertical-align: top;\n",
       "    }\n",
       "\n",
       "    .dataframe thead th {\n",
       "        text-align: right;\n",
       "    }\n",
       "</style>\n",
       "<table border=\"1\" class=\"dataframe\">\n",
       "  <thead>\n",
       "    <tr style=\"text-align: right;\">\n",
       "      <th></th>\n",
       "      <th>Fecha</th>\n",
       "      <th>Hora</th>\n",
       "      <th>Magnitud</th>\n",
       "      <th>Latitud</th>\n",
       "      <th>Longitud</th>\n",
       "      <th>Profundidad</th>\n",
       "      <th>Localizacion</th>\n",
       "      <th>Fecha_UTC</th>\n",
       "      <th>Hora_UTC</th>\n",
       "      <th>Estatus</th>\n",
       "    </tr>\n",
       "  </thead>\n",
       "  <tbody>\n",
       "    <tr>\n",
       "      <th>0</th>\n",
       "      <td>1900-01-20</td>\n",
       "      <td>00:33:30</td>\n",
       "      <td>7.4</td>\n",
       "      <td>20.00</td>\n",
       "      <td>-105.00</td>\n",
       "      <td>33.0</td>\n",
       "      <td>71 km al NOROESTE de AUTLAN DE NAVARRO, JAL</td>\n",
       "      <td>1900-01-20</td>\n",
       "      <td>06:33:30</td>\n",
       "      <td>revisado</td>\n",
       "    </tr>\n",
       "    <tr>\n",
       "      <th>1</th>\n",
       "      <td>1900-05-16</td>\n",
       "      <td>14:12:00</td>\n",
       "      <td>6.9</td>\n",
       "      <td>20.00</td>\n",
       "      <td>-105.00</td>\n",
       "      <td>33.0</td>\n",
       "      <td>71 km al NOROESTE de AUTLAN DE NAVARRO, JAL</td>\n",
       "      <td>1900-05-16</td>\n",
       "      <td>20:12:00</td>\n",
       "      <td>revisado</td>\n",
       "    </tr>\n",
       "    <tr>\n",
       "      <th>2</th>\n",
       "      <td>1901-03-05</td>\n",
       "      <td>04:45:00</td>\n",
       "      <td>6.9</td>\n",
       "      <td>25.00</td>\n",
       "      <td>-110.00</td>\n",
       "      <td>33.0</td>\n",
       "      <td>100 km al NORESTE de LA PAZ, BCS</td>\n",
       "      <td>1901-03-05</td>\n",
       "      <td>10:45:00</td>\n",
       "      <td>revisado</td>\n",
       "    </tr>\n",
       "    <tr>\n",
       "      <th>3</th>\n",
       "      <td>1901-12-08</td>\n",
       "      <td>20:17:00</td>\n",
       "      <td>7.0</td>\n",
       "      <td>26.00</td>\n",
       "      <td>-110.00</td>\n",
       "      <td>33.0</td>\n",
       "      <td>83 km al OESTE de AHOME, SIN</td>\n",
       "      <td>1901-12-09</td>\n",
       "      <td>02:17:00</td>\n",
       "      <td>revisado</td>\n",
       "    </tr>\n",
       "    <tr>\n",
       "      <th>4</th>\n",
       "      <td>1902-01-16</td>\n",
       "      <td>17:19:00</td>\n",
       "      <td>7.0</td>\n",
       "      <td>17.62</td>\n",
       "      <td>-99.72</td>\n",
       "      <td>33.0</td>\n",
       "      <td>21 km al OESTE de ZUMPANGO DEL RIO, GRO</td>\n",
       "      <td>1902-01-16</td>\n",
       "      <td>23:19:00</td>\n",
       "      <td>revisado</td>\n",
       "    </tr>\n",
       "  </tbody>\n",
       "</table>\n",
       "</div>"
      ],
      "text/plain": [
       "        Fecha      Hora Magnitud  Latitud  Longitud Profundidad  \\\n",
       "0  1900-01-20  00:33:30      7.4    20.00   -105.00        33.0   \n",
       "1  1900-05-16  14:12:00      6.9    20.00   -105.00        33.0   \n",
       "2  1901-03-05  04:45:00      6.9    25.00   -110.00        33.0   \n",
       "3  1901-12-08  20:17:00      7.0    26.00   -110.00        33.0   \n",
       "4  1902-01-16  17:19:00      7.0    17.62    -99.72        33.0   \n",
       "\n",
       "                                  Localizacion   Fecha_UTC  Hora_UTC   Estatus  \n",
       "0  71 km al NOROESTE de AUTLAN DE NAVARRO, JAL  1900-01-20  06:33:30  revisado  \n",
       "1  71 km al NOROESTE de AUTLAN DE NAVARRO, JAL  1900-05-16  20:12:00  revisado  \n",
       "2             100 km al NORESTE de LA PAZ, BCS  1901-03-05  10:45:00  revisado  \n",
       "3                 83 km al OESTE de AHOME, SIN  1901-12-09  02:17:00  revisado  \n",
       "4      21 km al OESTE de ZUMPANGO DEL RIO, GRO  1902-01-16  23:19:00  revisado  "
      ]
     },
     "execution_count": 26,
     "metadata": {},
     "output_type": "execute_result"
    }
   ],
   "source": [
    "data.head()"
   ]
  },
  {
   "cell_type": "code",
   "execution_count": 29,
   "metadata": {},
   "outputs": [
    {
     "data": {
      "text/plain": [
       "array([[<matplotlib.axes._subplots.AxesSubplot object at 0x10cab8d30>,\n",
       "        <matplotlib.axes._subplots.AxesSubplot object at 0x1a14405400>]],\n",
       "      dtype=object)"
      ]
     },
     "execution_count": 29,
     "metadata": {},
     "output_type": "execute_result"
    },
    {
     "data": {
      "image/png": "[encoded data removed]",
      "text/plain": [
       "<Figure size 432x288 with 2 Axes>"
      ]
     },
     "metadata": {},
     "output_type": "display_data"
    }
   ],
   "source": [
    "%matplotlib inline\n",
    "\n",
    "import matplotlib\n",
    "import numpy as np\n",
    "import matplotlib.pyplot as plt\n",
    "\n",
    "data.hist()"
   ]
  },
  {
   "cell_type": "code",
   "execution_count": 39,
   "metadata": {},
   "outputs": [
    {
     "data": {
      "text/plain": [
       "Fecha                                   1974-01-10\n",
       "Hora                                      08:35:40\n",
       "Magnitud                             no calculable\n",
       "Latitud                                      17.58\n",
       "Longitud                                   -103.11\n",
       "Profundidad                                   33.0\n",
       "Localizacion    97 km al SUROESTE de LA MIRA, MICH\n",
       "Fecha_UTC                               1974-01-10\n",
       "Hora_UTC                                  14:35:40\n",
       "Estatus                                   revisado\n",
       "Name: 140, dtype: object"
      ]
     },
     "execution_count": 39,
     "metadata": {},
     "output_type": "execute_result"
    }
   ],
   "source": [
    "pd.to_numeric(data['Magnitud'])\n",
    "data.plot(x='Fecha',y='Magnitud',figsize=(20,15))"
   ]
  },
  {
   "cell_type": "code",
   "execution_count": null,
   "metadata": {},
   "outputs": [],
   "source": []
  }
 ],
 "metadata": {
  "kernelspec": {
   "display_name": "Python 3",
   "language": "python",
   "name": "python3"
  },
  "language_info": {
   "codemirror_mode": {
    "name": "ipython",
    "version": 3
   },
   "file_extension": ".py",
   "mimetype": "text/x-python",
   "name": "python",
   "nbconvert_exporter": "python",
   "pygments_lexer": "ipython3",
   "version": "3.6.5"
  }
 },
 "nbformat": 4,
 "nbformat_minor": 2
}
