{
 "cells": [
  {
   "cell_type": "code",
   "execution_count": 164,
   "metadata": {},
   "outputs": [],
   "source": [
    "import pandas as pd"
   ]
  },
  {
   "cell_type": "code",
   "execution_count": 165,
   "metadata": {},
   "outputs": [
    {
     "name": "stderr",
     "output_type": "stream",
     "text": [
      "/home/rmartinez/.local/lib/python3.5/site-packages/IPython/core/interactiveshell.py:2785: DtypeWarning: Columns (2,5) have mixed types. Specify dtype option on import or set low_memory=False.\n",
      "  interactivity=interactivity, compiler=compiler, result=result)\n"
     ]
    }
   ],
   "source": [
    "df = pd.read_csv('/home/rmartinez/Documents/github_projects/mexico_earthquakes/data/sismos.csv', encoding='latin1')"
   ]
  },
  {
   "cell_type": "code",
   "execution_count": 166,
   "metadata": {},
   "outputs": [
    {
     "data": {
      "text/html": [
       "<div>\n",
       "<style scoped>\n",
       "    .dataframe tbody tr th:only-of-type {\n",
       "        vertical-align: middle;\n",
       "    }\n",
       "\n",
       "    .dataframe tbody tr th {\n",
       "        vertical-align: top;\n",
       "    }\n",
       "\n",
       "    .dataframe thead th {\n",
       "        text-align: right;\n",
       "    }\n",
       "</style>\n",
       "<table border=\"1\" class=\"dataframe\">\n",
       "  <thead>\n",
       "    <tr style=\"text-align: right;\">\n",
       "      <th></th>\n",
       "      <th>Latitud</th>\n",
       "      <th>Longitud</th>\n",
       "    </tr>\n",
       "  </thead>\n",
       "  <tbody>\n",
       "    <tr>\n",
       "      <th>count</th>\n",
       "      <td>137020.000000</td>\n",
       "      <td>137020.000000</td>\n",
       "    </tr>\n",
       "    <tr>\n",
       "      <th>mean</th>\n",
       "      <td>17.330889</td>\n",
       "      <td>-98.130885</td>\n",
       "    </tr>\n",
       "    <tr>\n",
       "      <th>std</th>\n",
       "      <td>3.826909</td>\n",
       "      <td>5.422786</td>\n",
       "    </tr>\n",
       "    <tr>\n",
       "      <th>min</th>\n",
       "      <td>11.752000</td>\n",
       "      <td>-120.595000</td>\n",
       "    </tr>\n",
       "    <tr>\n",
       "      <th>25%</th>\n",
       "      <td>15.590000</td>\n",
       "      <td>-100.050000</td>\n",
       "    </tr>\n",
       "    <tr>\n",
       "      <th>50%</th>\n",
       "      <td>16.320000</td>\n",
       "      <td>-97.590000</td>\n",
       "    </tr>\n",
       "    <tr>\n",
       "      <th>75%</th>\n",
       "      <td>17.330000</td>\n",
       "      <td>-94.450000</td>\n",
       "    </tr>\n",
       "    <tr>\n",
       "      <th>max</th>\n",
       "      <td>33.466500</td>\n",
       "      <td>-85.546700</td>\n",
       "    </tr>\n",
       "  </tbody>\n",
       "</table>\n",
       "</div>"
      ],
      "text/plain": [
       "             Latitud       Longitud\n",
       "count  137020.000000  137020.000000\n",
       "mean       17.330889     -98.130885\n",
       "std         3.826909       5.422786\n",
       "min        11.752000    -120.595000\n",
       "25%        15.590000    -100.050000\n",
       "50%        16.320000     -97.590000\n",
       "75%        17.330000     -94.450000\n",
       "max        33.466500     -85.546700"
      ]
     },
     "execution_count": 166,
     "metadata": {},
     "output_type": "execute_result"
    }
   ],
   "source": [
    "df.describe()"
   ]
  },
  {
   "cell_type": "code",
   "execution_count": 167,
   "metadata": {},
   "outputs": [
    {
     "name": "stdout",
     "output_type": "stream",
     "text": [
      "<class 'pandas.core.frame.DataFrame'>\n",
      "RangeIndex: 137020 entries, 0 to 137019\n",
      "Data columns (total 10 columns):\n",
      "Fecha           137020 non-null object\n",
      "Hora            137020 non-null object\n",
      "Magnitud        137020 non-null object\n",
      "Latitud         137020 non-null float64\n",
      "Longitud        137020 non-null float64\n",
      "Profundidad     137020 non-null object\n",
      "Localizacion    137020 non-null object\n",
      "Fecha_UTC       137020 non-null object\n",
      "Hora_UTC        137020 non-null object\n",
      "Estatus         137020 non-null object\n",
      "dtypes: float64(2), object(8)\n",
      "memory usage: 10.5+ MB\n"
     ]
    }
   ],
   "source": [
    "df.info()"
   ]
  },
  {
   "cell_type": "code",
   "execution_count": 168,
   "metadata": {},
   "outputs": [
    {
     "data": {
      "text/plain": [
       "Fecha                                  2012-06-29\n",
       "Hora                                     11:40:01\n",
       "Magnitud                                      4.2\n",
       "Latitud                                   13.5565\n",
       "Longitud                                 -92.1658\n",
       "Profundidad                               34.8478\n",
       "Localizacion    124 km al SUR de CD HIDALGO, CHIS\n",
       "Fecha_UTC                              2012-06-29\n",
       "Hora_UTC                                 16:40:01\n",
       "Estatus                                  revisado\n",
       "Name: 56208, dtype: object"
      ]
     },
     "execution_count": 168,
     "metadata": {},
     "output_type": "execute_result"
    }
   ],
   "source": [
    "magnitud_df = df[df.Magnitud!='no calculable']\n",
    "magnitud_df_2 = pd.DataFrame(magnitud_df['Magnitud'].astype('float64'), columns=['Magnitud'])\n",
    "magnitud_mean = magnitud_df_2['Magnitud'].mean()\n",
    "df.replace('no calculable', magnitud_mean, inplace=True)\n",
    "df.iloc[140]\n",
    "df['Magnitud']= pd.DataFrame(df['Magnitud'].astype('float64'), columns=['Magnitud'])\n",
    "\n",
    "profundidad_df = df[df.Profundidad!='en revision']\n",
    "profundidad_df_2 = pd.DataFrame(profundidad_df['Profundidad'].astype('float64'), columns=['Profundidad'])\n",
    "profundidad_mean = profundidad_df_2['Profundidad'].mean()\n",
    "df.replace('en revision', profundidad_mean, inplace=True)\n",
    "df['Profundidad']= pd.DataFrame(df['Profundidad'].astype('float64'), columns=['Profundidad'])\n",
    "df.iloc[56208]\n",
    "\n",
    "\n",
    "#df.info()\n",
    "#magnitud_new = pd.DataFrame(df['Magnitud'].astype('float64'), columns=['Magnitud'])\n",
    "#df['Magnitud'].fillna()"
   ]
  },
  {
   "cell_type": "code",
   "execution_count": 169,
   "metadata": {},
   "outputs": [
    {
     "data": {
      "text/html": [
       "<div>\n",
       "<style scoped>\n",
       "    .dataframe tbody tr th:only-of-type {\n",
       "        vertical-align: middle;\n",
       "    }\n",
       "\n",
       "    .dataframe tbody tr th {\n",
       "        vertical-align: top;\n",
       "    }\n",
       "\n",
       "    .dataframe thead th {\n",
       "        text-align: right;\n",
       "    }\n",
       "</style>\n",
       "<table border=\"1\" class=\"dataframe\">\n",
       "  <thead>\n",
       "    <tr style=\"text-align: right;\">\n",
       "      <th></th>\n",
       "      <th>Magnitud</th>\n",
       "      <th>Latitud</th>\n",
       "      <th>Longitud</th>\n",
       "      <th>Profundidad</th>\n",
       "    </tr>\n",
       "  </thead>\n",
       "  <tbody>\n",
       "    <tr>\n",
       "      <th>Magnitud</th>\n",
       "      <td>1.000000</td>\n",
       "      <td>-0.122907</td>\n",
       "      <td>0.137557</td>\n",
       "      <td>0.144579</td>\n",
       "    </tr>\n",
       "    <tr>\n",
       "      <th>Latitud</th>\n",
       "      <td>-0.122907</td>\n",
       "      <td>1.000000</td>\n",
       "      <td>-0.889023</td>\n",
       "      <td>-0.161381</td>\n",
       "    </tr>\n",
       "    <tr>\n",
       "      <th>Longitud</th>\n",
       "      <td>0.137557</td>\n",
       "      <td>-0.889023</td>\n",
       "      <td>1.000000</td>\n",
       "      <td>0.348676</td>\n",
       "    </tr>\n",
       "    <tr>\n",
       "      <th>Profundidad</th>\n",
       "      <td>0.144579</td>\n",
       "      <td>-0.161381</td>\n",
       "      <td>0.348676</td>\n",
       "      <td>1.000000</td>\n",
       "    </tr>\n",
       "  </tbody>\n",
       "</table>\n",
       "</div>"
      ],
      "text/plain": [
       "             Magnitud   Latitud  Longitud  Profundidad\n",
       "Magnitud     1.000000 -0.122907  0.137557     0.144579\n",
       "Latitud     -0.122907  1.000000 -0.889023    -0.161381\n",
       "Longitud     0.137557 -0.889023  1.000000     0.348676\n",
       "Profundidad  0.144579 -0.161381  0.348676     1.000000"
      ]
     },
     "execution_count": 169,
     "metadata": {},
     "output_type": "execute_result"
    }
   ],
   "source": [
    "df.corr()"
   ]
  },
  {
   "cell_type": "code",
   "execution_count": 170,
   "metadata": {},
   "outputs": [
    {
     "name": "stdout",
     "output_type": "stream",
     "text": [
      "<class 'pandas.core.frame.DataFrame'>\n",
      "RangeIndex: 137020 entries, 0 to 137019\n",
      "Data columns (total 10 columns):\n",
      "Fecha           137020 non-null object\n",
      "Hora            137020 non-null object\n",
      "Magnitud        137020 non-null float64\n",
      "Latitud         137020 non-null float64\n",
      "Longitud        137020 non-null float64\n",
      "Profundidad     137020 non-null float64\n",
      "Localizacion    137020 non-null object\n",
      "Fecha_UTC       137020 non-null object\n",
      "Hora_UTC        137020 non-null object\n",
      "Estatus         137020 non-null object\n",
      "dtypes: float64(4), object(6)\n",
      "memory usage: 10.5+ MB\n"
     ]
    }
   ],
   "source": [
    "df.info()"
   ]
  },
  {
   "cell_type": "code",
   "execution_count": 171,
   "metadata": {},
   "outputs": [
    {
     "data": {
      "text/plain": [
       "Fecha            object\n",
       "Hora             object\n",
       "Magnitud        float64\n",
       "Latitud         float64\n",
       "Longitud        float64\n",
       "Profundidad     float64\n",
       "Localizacion     object\n",
       "Fecha_UTC        object\n",
       "Hora_UTC         object\n",
       "Estatus          object\n",
       "dtype: object"
      ]
     },
     "execution_count": 171,
     "metadata": {},
     "output_type": "execute_result"
    }
   ],
   "source": [
    "df.dtypes"
   ]
  },
  {
   "cell_type": "code",
   "execution_count": 172,
   "metadata": {},
   "outputs": [],
   "source": [
    "df['Fecha_Hora']=pd.to_datetime(df['Fecha'] + ' '+ df['Hora'])"
   ]
  },
  {
   "cell_type": "code",
   "execution_count": 173,
   "metadata": {},
   "outputs": [
    {
     "data": {
      "text/html": [
       "<div>\n",
       "<style scoped>\n",
       "    .dataframe tbody tr th:only-of-type {\n",
       "        vertical-align: middle;\n",
       "    }\n",
       "\n",
       "    .dataframe tbody tr th {\n",
       "        vertical-align: top;\n",
       "    }\n",
       "\n",
       "    .dataframe thead th {\n",
       "        text-align: right;\n",
       "    }\n",
       "</style>\n",
       "<table border=\"1\" class=\"dataframe\">\n",
       "  <thead>\n",
       "    <tr style=\"text-align: right;\">\n",
       "      <th></th>\n",
       "      <th>Magnitud</th>\n",
       "      <th>Latitud</th>\n",
       "      <th>Longitud</th>\n",
       "      <th>Profundidad</th>\n",
       "    </tr>\n",
       "  </thead>\n",
       "  <tbody>\n",
       "    <tr>\n",
       "      <th>Magnitud</th>\n",
       "      <td>1.000000</td>\n",
       "      <td>-0.122907</td>\n",
       "      <td>0.137557</td>\n",
       "      <td>0.144579</td>\n",
       "    </tr>\n",
       "    <tr>\n",
       "      <th>Latitud</th>\n",
       "      <td>-0.122907</td>\n",
       "      <td>1.000000</td>\n",
       "      <td>-0.889023</td>\n",
       "      <td>-0.161381</td>\n",
       "    </tr>\n",
       "    <tr>\n",
       "      <th>Longitud</th>\n",
       "      <td>0.137557</td>\n",
       "      <td>-0.889023</td>\n",
       "      <td>1.000000</td>\n",
       "      <td>0.348676</td>\n",
       "    </tr>\n",
       "    <tr>\n",
       "      <th>Profundidad</th>\n",
       "      <td>0.144579</td>\n",
       "      <td>-0.161381</td>\n",
       "      <td>0.348676</td>\n",
       "      <td>1.000000</td>\n",
       "    </tr>\n",
       "  </tbody>\n",
       "</table>\n",
       "</div>"
      ],
      "text/plain": [
       "             Magnitud   Latitud  Longitud  Profundidad\n",
       "Magnitud     1.000000 -0.122907  0.137557     0.144579\n",
       "Latitud     -0.122907  1.000000 -0.889023    -0.161381\n",
       "Longitud     0.137557 -0.889023  1.000000     0.348676\n",
       "Profundidad  0.144579 -0.161381  0.348676     1.000000"
      ]
     },
     "execution_count": 173,
     "metadata": {},
     "output_type": "execute_result"
    }
   ],
   "source": [
    "df.corr()"
   ]
  },
  {
   "cell_type": "code",
   "execution_count": 174,
   "metadata": {},
   "outputs": [
    {
     "data": {
      "text/plain": [
       "0        1900-01-20 00:33:30\n",
       "1        1900-05-16 14:12:00\n",
       "2        1901-03-05 04:45:00\n",
       "3        1901-12-08 20:17:00\n",
       "4        1902-01-16 17:19:00\n",
       "5        1902-04-18 20:23:00\n",
       "6        1902-09-23 14:18:00\n",
       "7        1902-12-12 17:10:00\n",
       "8        1903-01-13 19:47:36\n",
       "9        1905-10-24 11:40:00\n",
       "10       1905-12-16 23:27:00\n",
       "11       1906-04-10 15:18:00\n",
       "12       1907-04-15 00:08:06\n",
       "13       1907-10-16 08:57:18\n",
       "14       1908-03-26 17:03:30\n",
       "15       1908-03-26 21:45:30\n",
       "16       1908-10-12 23:06:00\n",
       "17       1909-07-30 04:51:54\n",
       "18       1909-07-31 12:43:10\n",
       "19       1909-09-05 05:17:20\n",
       "20       1909-10-31 04:23:00\n",
       "21       1910-05-30 22:19:19\n",
       "22       1910-09-23 21:32:42\n",
       "23       1911-02-03 14:41:55\n",
       "24       1911-06-07 05:02:42\n",
       "25       1911-08-27 04:59:18\n",
       "26       1911-12-16 13:14:18\n",
       "27       1912-11-19 07:55:07\n",
       "28       1912-12-09 02:32:24\n",
       "29       1914-03-29 18:41:18\n",
       "                 ...        \n",
       "136990   2018-05-06 00:43:20\n",
       "136991   2018-05-06 00:48:01\n",
       "136992   2018-05-06 00:48:59\n",
       "136993   2018-05-06 00:51:50\n",
       "136994   2018-05-06 01:10:55\n",
       "136995   2018-05-06 01:22:19\n",
       "136996   2018-05-06 01:44:32\n",
       "136997   2018-05-06 01:50:39\n",
       "136998   2018-05-06 02:02:19\n",
       "136999   2018-05-06 02:07:25\n",
       "137000   2018-05-06 02:49:20\n",
       "137001   2018-05-06 03:14:54\n",
       "137002   2018-05-06 03:35:07\n",
       "137003   2018-05-06 04:00:38\n",
       "137004   2018-05-06 04:14:53\n",
       "137005   2018-05-06 04:42:29\n",
       "137006   2018-05-06 04:48:29\n",
       "137007   2018-05-06 05:31:48\n",
       "137008   2018-05-06 05:43:45\n",
       "137009   2018-05-06 05:45:17\n",
       "137010   2018-05-06 05:51:00\n",
       "137011   2018-05-06 06:05:59\n",
       "137012   2018-05-06 06:50:06\n",
       "137013   2018-05-06 08:16:06\n",
       "137014   2018-05-06 08:30:21\n",
       "137015   2018-05-06 08:45:25\n",
       "137016   2018-05-06 08:49:42\n",
       "137017   2018-05-06 09:00:44\n",
       "137018   2018-05-06 09:02:14\n",
       "137019   2018-05-06 09:08:26\n",
       "Name: Fecha_Hora, Length: 137020, dtype: datetime64[ns]"
      ]
     },
     "execution_count": 174,
     "metadata": {},
     "output_type": "execute_result"
    }
   ],
   "source": [
    "df['Fecha_Hora']"
   ]
  },
  {
   "cell_type": "code",
   "execution_count": 175,
   "metadata": {},
   "outputs": [],
   "source": [
    "df.drop(columns=['Fecha','Hora','Fecha_UTC','Hora_UTC','Estatus'], inplace=True)"
   ]
  },
  {
   "cell_type": "code",
   "execution_count": 176,
   "metadata": {},
   "outputs": [
    {
     "data": {
      "text/plain": [
       "Magnitud               float64\n",
       "Latitud                float64\n",
       "Longitud               float64\n",
       "Profundidad            float64\n",
       "Localizacion            object\n",
       "Fecha_Hora      datetime64[ns]\n",
       "dtype: object"
      ]
     },
     "execution_count": 176,
     "metadata": {},
     "output_type": "execute_result"
    }
   ],
   "source": [
    "df.dtypes"
   ]
  },
  {
   "cell_type": "code",
   "execution_count": 177,
   "metadata": {},
   "outputs": [
    {
     "data": {
      "text/plain": [
       "array(['71 km al NOROESTE de AUTLAN DE NAVARRO, JAL',\n",
       "       '100 km al NORESTE de LA PAZ, BCS', '83 km al OESTE de AHOME, SIN',\n",
       "       ..., '10 km al ESTE de SAN MARCOS, GRO',\n",
       "       '4 km al NORESTE de SAYULA, JAL',\n",
       "       '43 km al SURESTE de CHILAPA DE ALVAREZ, GRO'], dtype=object)"
      ]
     },
     "execution_count": 177,
     "metadata": {},
     "output_type": "execute_result"
    }
   ],
   "source": [
    "df.Localizacion.unique()"
   ]
  },
  {
   "cell_type": "code",
   "execution_count": 179,
   "metadata": {},
   "outputs": [
    {
     "data": {
      "text/plain": [
       "614"
      ]
     },
     "execution_count": 179,
     "metadata": {},
     "output_type": "execute_result"
    }
   ],
   "source": [
    "import re\n",
    "regex = '^.*km al .*de '\n",
    "\n",
    "local_sub = lambda x: re.sub(regex,'',x)\n",
    "\n",
    "df['Localizacion']=df['Localizacion'].apply(local_sub)\n",
    "df['Localizacion'].unique().size"
   ]
  },
  {
   "cell_type": "code",
   "execution_count": 180,
   "metadata": {},
   "outputs": [
    {
     "data": {
      "text/html": [
       "<div>\n",
       "<style scoped>\n",
       "    .dataframe tbody tr th:only-of-type {\n",
       "        vertical-align: middle;\n",
       "    }\n",
       "\n",
       "    .dataframe tbody tr th {\n",
       "        vertical-align: top;\n",
       "    }\n",
       "\n",
       "    .dataframe thead th {\n",
       "        text-align: right;\n",
       "    }\n",
       "</style>\n",
       "<table border=\"1\" class=\"dataframe\">\n",
       "  <thead>\n",
       "    <tr style=\"text-align: right;\">\n",
       "      <th></th>\n",
       "      <th>Magnitud</th>\n",
       "      <th>Latitud</th>\n",
       "      <th>Longitud</th>\n",
       "      <th>Profundidad</th>\n",
       "    </tr>\n",
       "  </thead>\n",
       "  <tbody>\n",
       "    <tr>\n",
       "      <th>Magnitud</th>\n",
       "      <td>1.000000</td>\n",
       "      <td>-0.122907</td>\n",
       "      <td>0.137557</td>\n",
       "      <td>0.144579</td>\n",
       "    </tr>\n",
       "    <tr>\n",
       "      <th>Latitud</th>\n",
       "      <td>-0.122907</td>\n",
       "      <td>1.000000</td>\n",
       "      <td>-0.889023</td>\n",
       "      <td>-0.161381</td>\n",
       "    </tr>\n",
       "    <tr>\n",
       "      <th>Longitud</th>\n",
       "      <td>0.137557</td>\n",
       "      <td>-0.889023</td>\n",
       "      <td>1.000000</td>\n",
       "      <td>0.348676</td>\n",
       "    </tr>\n",
       "    <tr>\n",
       "      <th>Profundidad</th>\n",
       "      <td>0.144579</td>\n",
       "      <td>-0.161381</td>\n",
       "      <td>0.348676</td>\n",
       "      <td>1.000000</td>\n",
       "    </tr>\n",
       "  </tbody>\n",
       "</table>\n",
       "</div>"
      ],
      "text/plain": [
       "             Magnitud   Latitud  Longitud  Profundidad\n",
       "Magnitud     1.000000 -0.122907  0.137557     0.144579\n",
       "Latitud     -0.122907  1.000000 -0.889023    -0.161381\n",
       "Longitud     0.137557 -0.889023  1.000000     0.348676\n",
       "Profundidad  0.144579 -0.161381  0.348676     1.000000"
      ]
     },
     "execution_count": 180,
     "metadata": {},
     "output_type": "execute_result"
    }
   ],
   "source": [
    "df.corr()"
   ]
  },
  {
   "cell_type": "code",
   "execution_count": 188,
   "metadata": {},
   "outputs": [],
   "source": [
    "from sklearn.preprocessing import OneHotEncoder\n",
    "from sklearn.preprocessing import LabelEncoder\n",
    "\n",
    "data = df['Localizacion'].values\n",
    "label_encoder = LabelEncoder()\n",
    "integer_encoded = label_encoder.fit_transform(data)"
   ]
  },
  {
   "cell_type": "code",
   "execution_count": 189,
   "metadata": {},
   "outputs": [
    {
     "data": {
      "text/plain": [
       "array([[0., 0., 0., ..., 0., 0., 0.],\n",
       "       [0., 0., 0., ..., 0., 0., 0.],\n",
       "       [0., 0., 0., ..., 0., 0., 0.],\n",
       "       ...,\n",
       "       [0., 0., 0., ..., 0., 0., 0.],\n",
       "       [0., 0., 0., ..., 0., 0., 0.],\n",
       "       [0., 0., 0., ..., 0., 0., 0.]])"
      ]
     },
     "execution_count": 189,
     "metadata": {},
     "output_type": "execute_result"
    }
   ],
   "source": [
    "one_hot = OneHotEncoder(sparse=False)\n",
    "integer_encoded = integer_encoded.reshape(len(integer_encoded), 1)\n",
    "one_hot.fit_transform(integer_encoded)"
   ]
  },
  {
   "cell_type": "code",
   "execution_count": null,
   "metadata": {},
   "outputs": [],
   "source": []
  }
 ],
 "metadata": {
  "kernelspec": {
   "display_name": "Python 3",
   "language": "python",
   "name": "python3"
  },
  "language_info": {
   "codemirror_mode": {
    "name": "ipython",
    "version": 3
   },
   "file_extension": ".py",
   "mimetype": "text/x-python",
   "name": "python",
   "nbconvert_exporter": "python",
   "pygments_lexer": "ipython3",
   "version": "3.5.2"
  }
 },
 "nbformat": 4,
 "nbformat_minor": 2
}
